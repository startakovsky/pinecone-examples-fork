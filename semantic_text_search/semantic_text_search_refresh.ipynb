{
 "cells": [
  {
   "cell_type": "markdown",
   "id": "a87700e2",
   "metadata": {},
   "source": [
    "<!--<badge>--><a href=\"https://colab.research.google.com/github/startakovsky/pinecone-examples-fork/blob/may-2022-semantic-text-search-refresh/semantic_text_search/semantic_text_search_refresh.ipynb\" target=\"_parent\"><img src=\"https://colab.research.google.com/assets/colab-badge.svg\" alt=\"Open In Colab\"/></a><!--</badge>-->"
   ]
  },
  {
   "cell_type": "markdown",
   "id": "df24e16b",
   "metadata": {},
   "source": [
    "# Semantic Search With Pinecone"
   ]
  },
  {
   "cell_type": "markdown",
   "id": "ba8253e2",
   "metadata": {},
   "source": [
    "## Background"
   ]
  },
  {
   "cell_type": "markdown",
   "id": "8010267d",
   "metadata": {},
   "source": [
    "### What is Semantic Search and how will we use it?\n",
    "\n",
    "_Semantic search_ is exactly the kind of search where the _meaning_ of the search query is the thing that's used, rather than it being done by keyword lookups. Pretrained neural networks on large sets of text data have been shown to be very effective at encoding the _meaning_ of a particular phrase, sentence, paragraph or long document into a data structure known as a [vector embedding](https://www.pinecone.io/learn/vector-embeddings/).\n",
    "\n",
    "In this example, we are going to demonstrate Pinecone's semantic search capabilities with an off-the-shelf, pretrained NLP model. In the process we'll learn a few things."
   ]
  },
  {
   "cell_type": "markdown",
   "id": "a228d497",
   "metadata": {},
   "source": [
    "### Learning Goals and Estimated Reading Time\n",
    "_By the end of this 10 minute demo, you will have:_\n",
    " 1. Learned about Pinecone's value for solving realtime semantic search requirements!\n",
    " 2. Stored and retrieved vectors from Pinecone your very-own Pinecone Vector Database.\n",
    " 3. Encoded news articles as 384-dimensional vectors using a pretrained, encoder-only, model (i.e. no model training necessary).\n",
    " 4. Queried Pinecone's Vector Database to find similar news articles to the query in question.\n",
    " \n",
    "Executing all the code in the notebook may take a few hours, but once all data is encoded results of queries to pinecone are processed on the order of tens of milliseconds."
   ]
  },
  {
   "cell_type": "markdown",
   "id": "1a99b115",
   "metadata": {},
   "source": [
    "## Setup: Prerequisites and Data Preparation"
   ]
  },
  {
   "cell_type": "markdown",
   "id": "b60687f1",
   "metadata": {},
   "source": [
    "### Python 3.7+\n",
    "\n",
    "This code has been tested with Python 3.7. It is recommended to run this code in a virtual environment or Google Colab."
   ]
  },
  {
   "cell_type": "markdown",
   "id": "5609277d",
   "metadata": {},
   "source": [
    "### Acquiring your Pinecone API Key\n",
    "\n",
    "A Pinecone API key is required. You can obtain one for free on our [our website](https://app.pinecone.io/). Either add `PINECONE_EXAMPLE_API_KEY` to your list of environmental variables, or manually enter it after running the below cell (a prompt will pop up requesting the API key, storing the result within this kernel (session))."
   ]
  },
  {
   "cell_type": "markdown",
   "id": "d0ffda0b",
   "metadata": {},
   "source": [
    "### Helper Module"
   ]
  },
  {
   "cell_type": "code",
   "execution_count": 1,
   "id": "96cb344b",
   "metadata": {},
   "outputs": [
    {
     "data": {
      "text/markdown": [
       "Extracting API Key from environmental variable `PINECONE_EXAMPLE_API_KEY`..."
      ],
      "text/plain": [
       "<IPython.core.display.Markdown object>"
      ]
     },
     "metadata": {},
     "output_type": "display_data"
    },
    {
     "data": {
      "text/markdown": [
       "Pinecone API Key available at `h.pinecone_api_key`"
      ],
      "text/plain": [
       "<IPython.core.display.Markdown object>"
      ]
     },
     "metadata": {},
     "output_type": "display_data"
    }
   ],
   "source": [
    "# There is a helper module required for this notebook to run.\n",
    "# When not present with this notebook, it will be streamed in from Pinecone's Example Repository.\n",
    "# You can find the module at https://github.com/pinecone-io/examples/tree/master/semantic_text_search\n",
    "\n",
    "import os\n",
    "import httpimport\n",
    "\n",
    "if os.path.isfile('helper.py'):\n",
    "    import helper as h\n",
    "else:\n",
    "    print('importing `helper.py` from https://github.com/pinecone-io')\n",
    "    with httpimport.github_repo(\n",
    "        username='startakovsky', \n",
    "        repo='pinecone-examples-fork',\n",
    "        module=['semantic_text_search'],\n",
    "        branch='may-2022-semantic-text-search-refresh'):\n",
    "        from semantic_text_search import helper as h"
   ]
  },
  {
   "cell_type": "markdown",
   "id": "7edfb9e5",
   "metadata": {},
   "source": [
    "### Installing and Importing Prerequisite Libraries:\n",
    "Python libraries [pinecone-client](https://pypi.org/project/pinecone-client/), [sentence_transformers](https://pypi.org/project/sentence-transformers/), [datasets](https://pypi.org/project/datasets/), [pandas](https://pypi.org/project/pandas/), and [tqdm](https://pypi.org/project/tqdm/) are required for this notebook."
   ]
  },
  {
   "cell_type": "markdown",
   "id": "3a12400a",
   "metadata": {},
   "source": [
    "#### Installing via `pip`\n",
    "The next line is equivalent to `pip install pinecone-client sentence-transformers datasets pandas tqdm`. Note that _sys.executable_ is a way of ensuring it's the version of pip associated with this Jupyter Notebook's Python kernel."
   ]
  },
  {
   "cell_type": "code",
   "execution_count": 2,
   "id": "8a1fa96d",
   "metadata": {},
   "outputs": [],
   "source": [
    "!pip install pinecone-client sentence-transformers pandas tqdm datasets -qU"
   ]
  },
  {
   "cell_type": "markdown",
   "id": "9441c1df",
   "metadata": {},
   "source": [
    "#### Importing and Defining Constants"
   ]
  },
  {
   "cell_type": "code",
   "execution_count": 3,
   "id": "c7281780",
   "metadata": {},
   "outputs": [],
   "source": [
    "import collections\n",
    "\n",
    "import tqdm\n",
    "import pinecone\n",
    "import pandas as pd\n",
    "from sentence_transformers import SentenceTransformer\n",
    "from datasets import load_dataset\n",
    "\n",
    "INDEX_NAME, INDEX_DIMENSION = 'semantic-text-search', 384\n",
    "MODEL_NAME = 'sentence-transformers/msmarco-MiniLM-L6-cos-v5'"
   ]
  },
  {
   "cell_type": "markdown",
   "id": "0cfefda6",
   "metadata": {},
   "source": [
    "### Downloading and Processing Data"
   ]
  },
  {
   "cell_type": "markdown",
   "id": "0ddb4ccc",
   "metadata": {},
   "source": [
    "#### Downloading data\n",
    "To demonstrate semantic search using Pinecone, we will be using [a dataset](https://huggingface.co/datasets/cc_news) consisting of over 700,000 English language news articles. We will be downloading this dataset using the `datasets` library in the next cell."
   ]
  },
  {
   "cell_type": "code",
   "execution_count": 4,
   "id": "f325264a",
   "metadata": {
    "scrolled": true
   },
   "outputs": [
    {
     "name": "stderr",
     "output_type": "stream",
     "text": [
      "Reusing dataset cc_news (/Users/steven/.cache/huggingface/datasets/cc_news/plain_text/1.0.0/ae469e556251e6e7e20a789f93803c7de19d0c4311b6854ab072fecb4e401bd6)\n"
     ]
    },
    {
     "data": {
      "application/vnd.jupyter.widget-view+json": {
       "model_id": "a121969e25a64fc99abf0e718c3a5ac8",
       "version_major": 2,
       "version_minor": 0
      },
      "text/plain": [
       "  0%|          | 0/1 [00:00<?, ?it/s]"
      ]
     },
     "metadata": {},
     "output_type": "display_data"
    }
   ],
   "source": [
    "dataset = load_dataset(\"cc_news\")"
   ]
  },
  {
   "cell_type": "markdown",
   "id": "35f916fa",
   "metadata": {},
   "source": [
    "#### The preprocessing step is self-explanatory and defined in the helper module."
   ]
  },
  {
   "cell_type": "code",
   "execution_count": 5,
   "id": "d9eb1f36",
   "metadata": {},
   "outputs": [],
   "source": [
    "df = h.get_processed_df(dataset['train'].to_pandas())"
   ]
  },
  {
   "cell_type": "markdown",
   "id": "4dc22766",
   "metadata": {},
   "source": [
    "#### Sample row from dataframe"
   ]
  },
  {
   "cell_type": "code",
   "execution_count": 6,
   "id": "fff4d03e",
   "metadata": {
    "scrolled": false
   },
   "outputs": [
    {
     "data": {
      "text/html": [
       "<div>\n",
       "<style scoped>\n",
       "    .dataframe tbody tr th:only-of-type {\n",
       "        vertical-align: middle;\n",
       "    }\n",
       "\n",
       "    .dataframe tbody tr th {\n",
       "        vertical-align: top;\n",
       "    }\n",
       "\n",
       "    .dataframe thead th {\n",
       "        text-align: right;\n",
       "    }\n",
       "</style>\n",
       "<table border=\"1\" class=\"dataframe\">\n",
       "  <thead>\n",
       "    <tr style=\"text-align: right;\">\n",
       "      <th></th>\n",
       "      <th>356155</th>\n",
       "    </tr>\n",
       "  </thead>\n",
       "  <tbody>\n",
       "    <tr>\n",
       "      <th>title</th>\n",
       "      <td>Statue of Liberty evacuated as climber refuses to come down</td>\n",
       "    </tr>\n",
       "    <tr>\n",
       "      <th>text</th>\n",
       "      <td>Liberty Island has been evacuated because of a climber at the Statue of Liberty.\\nA climber on the Statue of Liberty in New York. Pix 11 livestream screen capture from Facebook.\\nNEW YORK — Liberty Island has been evacuated because of a climber at the Statue of Liberty.\\nA person climbed the statue’s base on the Fourth of July shortly after several people were arrested after hanging a banner from the statue’s pedestal calling for abolishing Immigration and Customs Enforcement.\\nNews helicopter video showed the climber sitting Wednesday by the bottom of the statue’s robes, about 100 feet (30 meters) aboveground. Police nearby tried to persuade the climber to descend.\\nEarlier, National Park Service spokesman Jerry Willis said at least six people were taken into custody for the banner, which read “Abolish I.C.E.,” referring to part of the Department of Homeland Security.\\nWillis says federal regulations prohibit hanging banners from the monument.\\nBanner organizing group Rise and Resist says the climber isn’t connected to its demonstration.</td>\n",
       "    </tr>\n",
       "    <tr>\n",
       "      <th>domain</th>\n",
       "      <td>www.reviewjournal.com</td>\n",
       "    </tr>\n",
       "    <tr>\n",
       "      <th>date</th>\n",
       "      <td>2018-07-04 20:43:12</td>\n",
       "    </tr>\n",
       "    <tr>\n",
       "      <th>description</th>\n",
       "      <td>Liberty Island has been evacuated because of a climber at the Statue of Liberty.</td>\n",
       "    </tr>\n",
       "    <tr>\n",
       "      <th>url</th>\n",
       "      <td>https://www.reviewjournal.com/news/nation-and-world/statue-of-liberty-evacuated-as-climber-refuses-to-come-down/</td>\n",
       "    </tr>\n",
       "    <tr>\n",
       "      <th>image_url</th>\n",
       "      <td>https://www.reviewjournal.com/wp-content/uploads/2018/07/10783746_web1_dewfdew.jpg</td>\n",
       "    </tr>\n",
       "    <tr>\n",
       "      <th>text_to_encode</th>\n",
       "      <td>Statue of Liberty evacuated as climber refuses to come down Liberty Island has been evacuated because of a climber at the Statue of Liberty. A climber on the Statue of Liberty in New York. Pix 11 livestream screen capture from Facebook. NEW YORK — Liberty Island has been evacuated because of a climber at the Statue of Liberty. A person climbed the statue’s base on the Fourth of July shortly after several people were arrested after hanging a banner from the statue’s pedestal calling for abolishing Immigration and Customs Enforcement.</td>\n",
       "    </tr>\n",
       "    <tr>\n",
       "      <th>year</th>\n",
       "      <td>2018</td>\n",
       "    </tr>\n",
       "    <tr>\n",
       "      <th>month</th>\n",
       "      <td>7</td>\n",
       "    </tr>\n",
       "    <tr>\n",
       "      <th>processed_domain</th>\n",
       "      <td>other</td>\n",
       "    </tr>\n",
       "  </tbody>\n",
       "</table>\n",
       "</div>"
      ],
      "text/plain": [
       "                                                                                                                                                                                                                                                                                                                                                                                                                                                                                                                                                                                                                                                                                                                                                                                                                                                                                                                                                                                                                                                                                                          356155\n",
       "title                                                                                                                                                                                                                                                                                                                                                                                                                                                                                                                                                                                                                                                                                                                                                                                                                                                                                                                                                                                                                                                Statue of Liberty evacuated as climber refuses to come down\n",
       "text              Liberty Island has been evacuated because of a climber at the Statue of Liberty.\\nA climber on the Statue of Liberty in New York. Pix 11 livestream screen capture from Facebook.\\nNEW YORK — Liberty Island has been evacuated because of a climber at the Statue of Liberty.\\nA person climbed the statue’s base on the Fourth of July shortly after several people were arrested after hanging a banner from the statue’s pedestal calling for abolishing Immigration and Customs Enforcement.\\nNews helicopter video showed the climber sitting Wednesday by the bottom of the statue’s robes, about 100 feet (30 meters) aboveground. Police nearby tried to persuade the climber to descend.\\nEarlier, National Park Service spokesman Jerry Willis said at least six people were taken into custody for the banner, which read “Abolish I.C.E.,” referring to part of the Department of Homeland Security.\\nWillis says federal regulations prohibit hanging banners from the monument.\\nBanner organizing group Rise and Resist says the climber isn’t connected to its demonstration.\n",
       "domain                                                                                                                                                                                                                                                                                                                                                                                                                                                                                                                                                                                                                                                                                                                                                                                                                                                                                                                                                                                                                                                                                     www.reviewjournal.com\n",
       "date                                                                                                                                                                                                                                                                                                                                                                                                                                                                                                                                                                                                                                                                                                                                                                                                                                                                                                                                                                                                                                                                                         2018-07-04 20:43:12\n",
       "description                                                                                                                                                                                                                                                                                                                                                                                                                                                                                                                                                                                                                                                                                                                                                                                                                                                                                                                                                                                                                     Liberty Island has been evacuated because of a climber at the Statue of Liberty.\n",
       "url                                                                                                                                                                                                                                                                                                                                                                                                                                                                                                                                                                                                                                                                                                                                                                                                                                                                                                                                                                                             https://www.reviewjournal.com/news/nation-and-world/statue-of-liberty-evacuated-as-climber-refuses-to-come-down/\n",
       "image_url                                                                                                                                                                                                                                                                                                                                                                                                                                                                                                                                                                                                                                                                                                                                                                                                                                                                                                                                                                                                                     https://www.reviewjournal.com/wp-content/uploads/2018/07/10783746_web1_dewfdew.jpg\n",
       "text_to_encode                                                                                                                                                                                                                                                                                                                                                                                                                                                                                                                                        Statue of Liberty evacuated as climber refuses to come down Liberty Island has been evacuated because of a climber at the Statue of Liberty. A climber on the Statue of Liberty in New York. Pix 11 livestream screen capture from Facebook. NEW YORK — Liberty Island has been evacuated because of a climber at the Statue of Liberty. A person climbed the statue’s base on the Fourth of July shortly after several people were arrested after hanging a banner from the statue’s pedestal calling for abolishing Immigration and Customs Enforcement.\n",
       "year                                                                                                                                                                                                                                                                                                                                                                                                                                                                                                                                                                                                                                                                                                                                                                                                                                                                                                                                                                                                                                                                                                        2018\n",
       "month                                                                                                                                                                                                                                                                                                                                                                                                                                                                                                                                                                                                                                                                                                                                                                                                                                                                                                                                                                                                                                                                                                          7\n",
       "processed_domain                                                                                                                                                                                                                                                                                                                                                                                                                                                                                                                                                                                                                                                                                                                                                                                                                                                                                                                                                                                                                                                                                           other"
      ]
     },
     "execution_count": 6,
     "metadata": {},
     "output_type": "execute_result"
    }
   ],
   "source": [
    "pd.DataFrame(df.iloc[356155])"
   ]
  },
  {
   "cell_type": "markdown",
   "id": "3e57c70f",
   "metadata": {},
   "source": [
    "### Creating your Pinecone Index\n",
    "The process for creating a Pinecone Index requires your Pinecone API key, the name of your index, and the number of dimensions of each vector. As we will see below, the model we are using maps each piece of text to a 384-dimensional vector."
   ]
  },
  {
   "cell_type": "code",
   "execution_count": 7,
   "id": "7d03750c",
   "metadata": {},
   "outputs": [],
   "source": [
    "pinecone.init(api_key=h.pinecone_api_key, environment='us-west1-gcp')\n",
    "pinecone.create_index(name=INDEX_NAME, dimension=INDEX_DIMENSION)\n",
    "index = pinecone.Index(index_name=INDEX_NAME)"
   ]
  },
  {
   "cell_type": "markdown",
   "id": "546f0219",
   "metadata": {},
   "source": [
    "## Generate embeddings and send them to your Pinecone Index\n",
    "This will all be done in batches. We will compute embeddings in batch, followed by taking each batch and sending it to Pinecone, also in batches."
   ]
  },
  {
   "cell_type": "markdown",
   "id": "9ecbb5e8",
   "metadata": {},
   "source": [
    "### Loading a Pretrained Encoder model.\n",
    "We will generate embeddings by using [this Sentence Transformers model](https://huggingface.co/sentence-transformers/msmarco-MiniLM-L6-cos-v5). It is one of hundreds encoder models available. Downloads happen automatically with SentenceTransformer, and may take up to a minute the first time. After this first import, the model is cached and available on a local machine."
   ]
  },
  {
   "cell_type": "code",
   "execution_count": 8,
   "id": "b4ed4a8c",
   "metadata": {},
   "outputs": [
    {
     "data": {
      "text/markdown": [
       "Loading model from _Sentence Transformers_: `sentence-transformers/msmarco-MiniLM-L6-cos-v5` from Sentence Transformers..."
      ],
      "text/plain": [
       "<IPython.core.display.Markdown object>"
      ]
     },
     "metadata": {},
     "output_type": "display_data"
    },
    {
     "data": {
      "text/markdown": [
       "Model loaded."
      ],
      "text/plain": [
       "<IPython.core.display.Markdown object>"
      ]
     },
     "metadata": {},
     "output_type": "display_data"
    }
   ],
   "source": [
    "h.printmd(f'Loading model from _Sentence Transformers_: `{MODEL_NAME}` from Sentence Transformers...')\n",
    "model = SentenceTransformer(MODEL_NAME)\n",
    "h.printmd('Model loaded.')"
   ]
  },
  {
   "cell_type": "markdown",
   "id": "fd4d4005",
   "metadata": {},
   "source": [
    "### MSMARCO model v5 and Embeddings\n",
    "\n",
    "In this example, we created an index with 384 dimensions and the [cosine similarity score](https://en.wikipedia.org/wiki/Cosine_similarity). This calculation is trivial when comparing two vectors, but nontrivial when needing to compare a query vector against millions or billions of vectors and determine those that yield the highest similiarity with the query vector."
   ]
  },
  {
   "cell_type": "markdown",
   "id": "25a13a56",
   "metadata": {},
   "source": [
    "#### On Embeddings\n",
    "\n",
    "This model produces vectors from text, each a sequence of 384 floats. So, when a piece of text such as \"A quick fox jumped around\" gets encoded into a vector embedding, the result is a sequence of floats of length 384. The same is true for a long news article and a single word. "
   ]
  },
  {
   "cell_type": "markdown",
   "id": "bb16d277",
   "metadata": {},
   "source": [
    "#### On Comparing Embeddings aka _how_ Semantic Search works\n",
    "\n",
    "Two 15-dimensional text embeddings might look like something like: \n",
    " - _\\[-0.02, 0.06, 0.0, 0.01, 0.08, -0.03, 0.01, 0.02, 0.01, 0.02, -0.07, -0.11, -0.01, 0.08, -0.04\\]_\n",
    " - _\\[-0.04, -0.09, 0.04, -0.1, -0.05, -0.01, -0.06, -0.04, -0.02, -0.04, -0.04, 0.07, 0.03, 0.02, 0.03\\]_\n",
    " \n",
    "In order to determine how [_similar_](https://towardsdatascience.com/importance-of-distance-metrics-in-machine-learning-modelling-e51395ffe60d) they are, it is a simple formula that takes a very short time to compute. Similarity scores are, in general, an excellent proxy for semantic similarity. So a natural question one might ask is to compare one vector to a handful of others and select the most similar."
   ]
  },
  {
   "cell_type": "markdown",
   "id": "3d71e442",
   "metadata": {},
   "source": [
    "### What is Pinecone for?\n",
    "There is often a technical requirement to compare one vector to tens or hundreds of millions or more vectors, to do so with low latency (less than 50ms) and a high throughput. Pinecone solves this problem with its managed vector database service, and we will demonstrate this below."
   ]
  },
  {
   "cell_type": "markdown",
   "id": "46933021",
   "metadata": {},
   "source": [
    "### Components of a Pinecone vector embedding\n",
    "\n",
    "There are three components to every Pinecone vector embedding:\n",
    " - a vector ID\n",
    " - a sequence of floats of a user-defined, fixed dimension\n",
    " - vector metadata (a key-value store)\n",
    "\n",
    "### Prepare vector embeddings for upload\n",
    "\n",
    "We will encode the news articles for upload to Pinecone. This may take a while depending on your machine. If on a recent MacBookPro or Google Colab, this may take up to one hour, sometimes longer. We will use the index of the pandas dataframe for the vector ID, the pretrained model to generate the sequence of 384 floats, and the year, month and article source for details in the metadata.\n",
    "\n",
    "#### Prepare metadata\n",
    "\n",
    "The function below creates metadata from a single row of the dataframe. This is going to be important further down this notebook for additional filter requirements we will may want to employ in our queries."
   ]
  },
  {
   "cell_type": "code",
   "execution_count": 9,
   "id": "330d389c",
   "metadata": {},
   "outputs": [],
   "source": [
    "def get_vector_metadata_from_dataframe_row(df_row):\n",
    "    \"\"\"Return vector metadata.\"\"\"\n",
    "    vector_metadata = {\n",
    "        'year': df_row['year'],\n",
    "        'month': df_row['month'],\n",
    "        'source': df_row['processed_domain']\n",
    "    }\n",
    "    return vector_metadata"
   ]
  },
  {
   "cell_type": "markdown",
   "id": "0c1e0478",
   "metadata": {},
   "source": [
    "#### Prepare all vector data for upload\n",
    "\n",
    "The function below will take a portion of the dataframe and create the full vector data as Pinecone expects it for [upsert](https://www.pinecone.io/docs/insert-data/)."
   ]
  },
  {
   "cell_type": "code",
   "execution_count": 10,
   "id": "40c3862c",
   "metadata": {},
   "outputs": [],
   "source": [
    "def get_vectors_to_upload_to_pinecone(df_chunk, model):\n",
    "    \"\"\"Return list of tuples like (vector_id, vector_values, vector_metadata).\"\"\"\n",
    "    # create embeddings\n",
    "    # pool = model.start_multi_process_pool()\n",
    "    # vector_values = model.encode_multi_process(df_chunk['text_to_encode'], pool).tolist()\n",
    "    # model.stop_multi_process_pool(pool)\n",
    "    vector_values = model.encode(df_chunk['text_to_encode'], show_progress_bar=True).tolist()\n",
    "    # create vector ids and metadata\n",
    "    vector_ids = df_chunk.index.tolist()\n",
    "    vector_metadata = df_chunk.apply(get_vector_metadata_from_dataframe_row,axis=1).tolist()\n",
    "    return list(zip(vector_ids, vector_values, vector_metadata))"
   ]
  },
  {
   "cell_type": "markdown",
   "id": "040cc6d7",
   "metadata": {},
   "source": [
    "### Upload data to Pinecone in asynchronous batches\n",
    "\n",
    "The function below iterates through the dataframe in chunks, and for each of those chunks, will upload asynchronously in sub-chunks to your Pinecone Index."
   ]
  },
  {
   "cell_type": "code",
   "execution_count": 11,
   "id": "256e593c",
   "metadata": {},
   "outputs": [],
   "source": [
    "def upload_dataframe_to_pinecone_in_chunks(\n",
    "    dataframe, \n",
    "    pinecone_index, \n",
    "    model, \n",
    "    chunk_size=20000, \n",
    "    upsert_size=500):\n",
    "    \"\"\"Encode dataframe column `text_to_encode` to dense vector and upsert to Pinecone.\"\"\"\n",
    "    tqdm_kwargs = h.get_tqdm_kwargs(dataframe, chunk_size)\n",
    "    async_results = collections.defaultdict(list)\n",
    "    for df_chunk in tqdm.notebook.tqdm(h.chunks(dataframe, chunk_size), **tqdm_kwargs):\n",
    "        vectors = get_vectors_to_upload_to_pinecone(df_chunk, model)\n",
    "        # upload to Pinecone in batches of `upsert_size`\n",
    "        for vectors_chunk in h.chunks(vectors, upsert_size):\n",
    "            start_index_chunk = df_chunk.index[0]\n",
    "            async_result = pinecone_index.upsert(vectors_chunk, async_req=True)\n",
    "            async_results[start_index_chunk].append(async_result)\n",
    "        # wait for results\n",
    "        _ = [async_result.get() for async_result in async_results[start_index_chunk]]\n",
    "        is_all_successful = all(map(lambda x: x.successful(), async_results[start_index_chunk]))\n",
    "        # report chunk upload status\n",
    "        print(\n",
    "        f'All upserts in chunk successful with index starting with {start_index_chunk:>7}: '\n",
    "        f'{is_all_successful}. Vectors uploaded: {len(vectors):>3}.'\n",
    "        )\n",
    "    return async_results"
   ]
  },
  {
   "cell_type": "markdown",
   "id": "0171dc2d",
   "metadata": {},
   "source": [
    "#### Asynchronous Upload\n",
    "Computing the embeddings may several hours depending on hardware capabilities. The Pinecone API responds right away with its [async](https://www.pinecone.io/docs/insert-data/#sending-upserts-in-parallel) requests. "
   ]
  },
  {
   "cell_type": "code",
   "execution_count": null,
   "id": "5ba75643",
   "metadata": {},
   "outputs": [
    {
     "data": {
      "application/vnd.jupyter.widget-view+json": {
       "model_id": "b0096225cc294e0498c8148d34ac8709",
       "version_major": 2,
       "version_minor": 0
      },
      "text/plain": [
       "  0%|          | 0/36 [00:00<?, ?chunk of vectors/s]"
      ]
     },
     "metadata": {},
     "output_type": "display_data"
    },
    {
     "data": {
      "application/vnd.jupyter.widget-view+json": {
       "model_id": "5177f0341c9d452cb7d3404be859d230",
       "version_major": 2,
       "version_minor": 0
      },
      "text/plain": [
       "Batches:   0%|          | 0/625 [00:00<?, ?it/s]"
      ]
     },
     "metadata": {},
     "output_type": "display_data"
    }
   ],
   "source": [
    "async_results = upload_dataframe_to_pinecone_in_chunks(df, index, model)"
   ]
  },
  {
   "cell_type": "markdown",
   "id": "0eddac13",
   "metadata": {},
   "source": [
    "### Visualize the status of your upserts in the Pinecone Console\n",
    "\n",
    "<img src='https://raw.githubusercontent.com/startakovsky/pinecone-examples-fork/may-2022-semantic-text-search-refresh/semantic_text_search/pinecone_console.png'>"
   ]
  },
  {
   "cell_type": "markdown",
   "id": "d2f6de60",
   "metadata": {},
   "source": [
    "## Querying Pinecone\n",
    "\n",
    "Now that all the embeddings of the texts are on Pinecone's database, it's time to demonstrate Pinecone's lightning fast semantic search query capabilities."
   ]
  },
  {
   "cell_type": "markdown",
   "id": "a8e5033f",
   "metadata": {},
   "source": [
    "### Pinecone Example Usage\n",
    "\n",
    "#### _**Show me news articles about \"ancient attitudes\"\\!**_\n",
    "\n",
    "In the below example we query Pinecone's API with an embedding of a query term to return the vector embeddings that have the highest similarity score. Pinecone effeciently estimates which of the uploaded vector embeddings have the highest similarity when paired with the query term's embedding, and the database will scale to billions of embeddings maintaining low-latency and high throughput. In this example we have upserted over 700,000 embeddings. Our [starter plan](https://www.pinecone.io/pricing/) supports up to one million. "
   ]
  },
  {
   "cell_type": "markdown",
   "id": "d6c62f6d",
   "metadata": {},
   "source": [
    "#### Example: Pinecone API Request and Response\n",
    "\n",
    "Let's find articles with a similar semantic meaning to the `query` variable."
   ]
  },
  {
   "cell_type": "code",
   "execution_count": null,
   "id": "cf9ff99a",
   "metadata": {},
   "outputs": [],
   "source": [
    "query = \"outdoor activities\"\n",
    "vector_embedding = model.encode(query).tolist()\n",
    "response = index.query([vector_embedding], top_k=3, include_metadata=True)\n",
    "h.printmd(f\"#### A sample response from Pinecone \\n ==============\\n \\n ```python\\n{response}\\n```\")"
   ]
  },
  {
   "cell_type": "code",
   "execution_count": null,
   "id": "0325ed51",
   "metadata": {},
   "outputs": [],
   "source": [
    "vector_ids, scores = h.get_ids_scores(response)\n",
    "h.printmd(\"#### Enriched Response \\nTo show which questions we retreived, \"\n",
    "          \"the above response needs to be enriched using the original dataset.\")\n",
    "result = df.loc[vector_ids]\n",
    "result['score'] = scores\n",
    "result[['title', 'score', 'domain', 'date', 'description', 'url']].style.format(\n",
    "    {\n",
    "        'url': h.make_clickable, \n",
    "        'score': lambda x: round(x, 2)\n",
    "    }\n",
    ")"
   ]
  },
  {
   "cell_type": "markdown",
   "id": "4c84b072",
   "metadata": {},
   "source": [
    "#### Are the results any good?\n",
    "\n",
    "We invite the reader to explore various queries by running the code in the last two cells. Note that this is **not a keyword search** but rather a **search for semantically similar results**. Note the _score_ column indicating the similarity score with the query. Better scores are typically associated with more semantic similarity."
   ]
  },
  {
   "cell_type": "markdown",
   "id": "b3108f73",
   "metadata": {},
   "source": [
    "### Pinecone Example Usage With [Metadata](https://www.pinecone.io/docs/metadata-filtering/)\n",
    "\n",
    "Extensive predicate logic can be applied to metadata filtering, just like the [WHERE clause](https://www.pinecone.io/learn/vector-search-filtering/) in SQL! Pinecone's [metadata feature](https://www.pinecone.io/docs/metadata-filtering/) provides easy-to-implement filtering.\n",
    "\n",
    "Here are the top 20 sources, with the rest grouped into the _other_ category. We will filter results so that they come from any of the top 5 sources of articles and https://www.taiwannews.com.tw, and originated in 2018."
   ]
  },
  {
   "cell_type": "code",
   "execution_count": null,
   "id": "8ec9b606",
   "metadata": {},
   "outputs": [],
   "source": [
    "sources = h.get_top_sources(df)\n",
    "print(*sources, sep=', ')"
   ]
  },
  {
   "cell_type": "code",
   "execution_count": null,
   "id": "4c61a4bd",
   "metadata": {
    "scrolled": false
   },
   "outputs": [],
   "source": [
    "response = index.query(\n",
    "    [vector_embedding], \n",
    "    top_k=5, \n",
    "    filter={\n",
    "        \"$and\": [\n",
    "            {'year': {'$eq': 2018}},\n",
    "            {'source': {'$in':  sources[:5] + ['www.taiwannews.com.tw']}}\n",
    "        ]\n",
    "    }\n",
    ")\n",
    "vector_ids, scores = h.get_ids_scores(response)\n",
    "result = df.loc[vector_ids]\n",
    "result['score'] = scores\n",
    "result[['title', 'score', 'domain', 'date', 'description', 'url']].style.format(\n",
    "    {\n",
    "        'url': h.make_clickable, \n",
    "        'score': lambda x: round(x, 2)\n",
    "    }\n",
    ")"
   ]
  },
  {
   "cell_type": "markdown",
   "id": "d3a42e36",
   "metadata": {},
   "source": [
    "## Conclusion\n",
    "\n",
    "In this example, we demonstrated how trivial Pinecone makes it possible to do semantic search using a pre-trained transformer-encoder model with Pinecone to achieve realtime similarity retrieval! We demonstrated the use of metadata"
   ]
  },
  {
   "cell_type": "markdown",
   "id": "d5fed76d",
   "metadata": {},
   "source": [
    "### Like what you see? Explore our [community](https://www.pinecone.io/community/)\n",
    "Learn more about semantic search and the rich, performant, and production-level feature set of Pinecone's Vector Database by visiting https://pinecone.io, connecting with us [here](https://www.pinecone.io/contact/) and [following us](https://www.linkedin.com/company/pinecone-io) on LinkedIn. If interested in some of the algorithms that allow for effecient estimation of similar vectors, visit our Algorithms and Libraries section of our [Learning Center](https://www.pinecone.io/learn/)."
   ]
  }
 ],
 "metadata": {
  "kernelspec": {
   "display_name": "Python 3 (ipykernel)",
   "language": "python",
   "name": "python3"
  },
  "language_info": {
   "codemirror_mode": {
    "name": "ipython",
    "version": 3
   },
   "file_extension": ".py",
   "mimetype": "text/x-python",
   "name": "python",
   "nbconvert_exporter": "python",
   "pygments_lexer": "ipython3",
   "version": "3.10.1"
  }
 },
 "nbformat": 4,
 "nbformat_minor": 5
}
