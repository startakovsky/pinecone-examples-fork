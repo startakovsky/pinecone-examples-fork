{
  "cells": [
    {
      "cell_type": "markdown",
      "id": "a87700e2",
      "metadata": {
        "id": "a87700e2"
      },
      "source": [
        "<!--<badge>--><a href=\"https://colab.research.google.com/github/startakovsky/pinecone-examples-fork/blob/may-2022-semantic-text-search-refresh/semantic_text_search/semantic_text_search_refresh.ipynb\" target=\"_parent\"><img src=\"https://colab.research.google.com/assets/colab-badge.svg\" alt=\"Open In Colab\"/></a><!--</badge>-->"
      ]
    },
    {
      "cell_type": "markdown",
      "id": "df24e16b",
      "metadata": {
        "id": "df24e16b"
      },
      "source": [
        "# Semantic Search With Pinecone"
      ]
    },
    {
      "cell_type": "markdown",
      "id": "ba8253e2",
      "metadata": {
        "id": "ba8253e2"
      },
      "source": [
        "## Background"
      ]
    },
    {
      "cell_type": "markdown",
      "id": "8010267d",
      "metadata": {
        "id": "8010267d"
      },
      "source": [
        "### What is Semantic Search and how will we use it?\n",
        "\n",
        "_Semantic search_ is search where the _meaning_ of the search query is the focus, rather than using keyword lookups. Pretrained neural networks on large sets of text data have been shown to be effective at encoding the _meaning_ of a particular phrase, sentence, paragraph or long document into a data structure known as a [vector embedding](https://www.pinecone.io/learn/vector-embeddings/).\n",
        "\n",
        "In this example, we are going to demonstrate Pinecone's semantic search capabilities with an off-the-shelf, pretrained NLP model. In the process we'll learn a few things."
      ]
    },
    {
      "cell_type": "markdown",
      "id": "a228d497",
      "metadata": {
        "id": "a228d497"
      },
      "source": [
        "### Learning Goals and Estimated Reading Time\n",
        "_By the end of this 10 minute demo, you will have:_\n",
        " 1. Learned about Pinecone's value for solving realtime semantic search requirements!\n",
        " 2. Stored and retrieved vectors from Pinecone your very-own Pinecone Vector Database.\n",
        " 3. Encoded news articles as 384-dimensional vectors using a pretrained, encoder-only, model (i.e. no model training necessary).\n",
        " 4. Queried Pinecone's Vector Database to find similar news articles to the query in question.\n",
        " \n",
        "Executing all the code in the notebook may take a few hours, but once all data is encoded results of queries to pinecone are processed on the order of tens of milliseconds."
      ]
    },
    {
      "cell_type": "markdown",
      "id": "1a99b115",
      "metadata": {
        "id": "1a99b115"
      },
      "source": [
        "## Setup: Prerequisites and Data Preparation"
      ]
    },
    {
      "cell_type": "markdown",
      "id": "b60687f1",
      "metadata": {
        "id": "b60687f1"
      },
      "source": [
        "### Python 3.7+\n",
        "\n",
        "This code has been tested with Python 3.7. It is recommended to run this code in a virtual environment or Google Colab."
      ]
    },
    {
      "cell_type": "markdown",
      "id": "5609277d",
      "metadata": {
        "id": "5609277d"
      },
      "source": [
        "### Acquiring your Pinecone API Key\n",
        "\n",
        "A Pinecone API key is required. You can obtain one for free on our [our website](https://app.pinecone.io/). Either add `PINECONE_EXAMPLE_API_KEY` to your list of environmental variables, or manually enter it after running the below cell (a prompt will pop up requesting the API key, storing the result within this kernel (session))."
      ]
    },
    {
      "cell_type": "markdown",
      "id": "d0ffda0b",
      "metadata": {
        "id": "d0ffda0b"
      },
      "source": [
        "### Helper Module"
      ]
    },
    {
      "cell_type": "code",
      "execution_count": 1,
      "id": "96cb344b",
      "metadata": {
        "colab": {
          "base_uri": "https://localhost:8080/",
          "height": 135
        },
        "id": "96cb344b",
        "outputId": "30d49008-2ae1-40b3-d7b6-9ea6537611a3"
      },
      "outputs": [
        {
          "output_type": "stream",
          "name": "stdout",
          "text": [
            "importing `helper.py` from https://github.com/pinecone-io\n"
          ]
        },
        {
          "output_type": "display_data",
          "data": {
            "text/plain": [
              "<IPython.core.display.Markdown object>"
            ],
            "text/markdown": "Extracting API Key from environmental variable `PINECONE_EXAMPLE_API_KEY`..."
          },
          "metadata": {}
        },
        {
          "output_type": "display_data",
          "data": {
            "text/plain": [
              "<IPython.core.display.Markdown object>"
            ],
            "text/markdown": "PINECONE_EXAMPLE_API_KEY not found in environmental variables list.\nGet yours at https://app.pinecone.io and enter it here: "
          },
          "metadata": {}
        },
        {
          "name": "stdout",
          "output_type": "stream",
          "text": [
            "··········\n"
          ]
        },
        {
          "output_type": "display_data",
          "data": {
            "text/plain": [
              "<IPython.core.display.Markdown object>"
            ],
            "text/markdown": "Pinecone API Key available at `h.pinecone_api_key`"
          },
          "metadata": {}
        }
      ],
      "source": [
        "# There is a helper module required for this notebook to run.\n",
        "# When not present with this notebook, it will be streamed in from Pinecone's Example Repository.\n",
        "# You can find the module at https://github.com/pinecone-io/examples/tree/master/semantic_text_search\n",
        "\n",
        "import os\n",
        "import httpimport\n",
        "\n",
        "if os.path.isfile('helper.py'):\n",
        "    import helper as h\n",
        "else:\n",
        "    print('importing `helper.py` from https://github.com/pinecone-io')\n",
        "    with httpimport.github_repo(\n",
        "        username='startakovsky', \n",
        "        repo='pinecone-examples-fork',\n",
        "        module=['semantic_text_search'],\n",
        "        branch='may-2022-semantic-text-search-refresh'):\n",
        "        from semantic_text_search import helper as h"
      ]
    },
    {
      "cell_type": "markdown",
      "id": "7edfb9e5",
      "metadata": {
        "id": "7edfb9e5"
      },
      "source": [
        "### Installing and Importing Prerequisite Libraries:\n",
        "Python libraries [pinecone-client](https://pypi.org/project/pinecone-client/), [sentence_transformers](https://pypi.org/project/sentence-transformers/), [datasets](https://pypi.org/project/datasets/), [pandas](https://pypi.org/project/pandas/), and [tqdm](https://pypi.org/project/tqdm/) are required for this notebook."
      ]
    },
    {
      "cell_type": "markdown",
      "id": "3a12400a",
      "metadata": {
        "id": "3a12400a"
      },
      "source": [
        "#### Installing via `pip`\n",
        "The next line is equivalent to `pip install pinecone-client sentence-transformers datasets pandas tqdm`. Note that _sys.executable_ is a way of ensuring it's the version of pip associated with this Jupyter Notebook's Python kernel."
      ]
    },
    {
      "cell_type": "code",
      "execution_count": 2,
      "id": "8a1fa96d",
      "metadata": {
        "id": "8a1fa96d"
      },
      "outputs": [],
      "source": [
        "!pip install pinecone-client sentence-transformers pandas tqdm datasets -qU"
      ]
    },
    {
      "cell_type": "markdown",
      "id": "9441c1df",
      "metadata": {
        "id": "9441c1df"
      },
      "source": [
        "#### Importing and Defining Constants"
      ]
    },
    {
      "cell_type": "code",
      "execution_count": 3,
      "id": "c7281780",
      "metadata": {
        "id": "c7281780"
      },
      "outputs": [],
      "source": [
        "import collections\n",
        "\n",
        "import tqdm\n",
        "import pinecone\n",
        "import pandas as pd\n",
        "from sentence_transformers import SentenceTransformer\n",
        "from datasets import load_dataset\n",
        "\n",
        "INDEX_NAME, INDEX_DIMENSION = 'semantic-text-search', 384\n",
        "MODEL_NAME = 'sentence-transformers/msmarco-MiniLM-L6-cos-v5'"
      ]
    },
    {
      "cell_type": "markdown",
      "id": "0cfefda6",
      "metadata": {
        "id": "0cfefda6"
      },
      "source": [
        "### Downloading and Processing Data"
      ]
    },
    {
      "cell_type": "markdown",
      "id": "0ddb4ccc",
      "metadata": {
        "id": "0ddb4ccc"
      },
      "source": [
        "#### Downloading data\n",
        "To demonstrate semantic search using Pinecone, we will be using [a dataset](https://huggingface.co/datasets/cc_news) consisting of over 700,000 English language news articles. We will be downloading this dataset using the `datasets` library in the next cell."
      ]
    },
    {
      "cell_type": "code",
      "execution_count": 4,
      "id": "f325264a",
      "metadata": {
        "scrolled": true,
        "colab": {
          "base_uri": "https://localhost:8080/"
        },
        "id": "f325264a",
        "outputId": "b52b9c7f-362e-4eb3-c94c-d29270e753fe"
      },
      "outputs": [
        {
          "output_type": "stream",
          "name": "stderr",
          "text": [
            "Reusing dataset cc_news (/root/.cache/huggingface/datasets/cc_news/plain_text/1.0.0/ae469e556251e6e7e20a789f93803c7de19d0c4311b6854ab072fecb4e401bd6)\n"
          ]
        }
      ],
      "source": [
        "rows = 3_000  # number of rows to download, increase/decrease as preferred\n",
        "\n",
        "dataset = load_dataset(\"cc_news\", split=f\"train[:{rows}]\")"
      ]
    },
    {
      "cell_type": "markdown",
      "id": "35f916fa",
      "metadata": {
        "id": "35f916fa"
      },
      "source": [
        "#### The preprocessing step is self-explanatory and defined in the helper module."
      ]
    },
    {
      "cell_type": "code",
      "execution_count": 5,
      "id": "d9eb1f36",
      "metadata": {
        "id": "d9eb1f36"
      },
      "outputs": [],
      "source": [
        "df = h.get_processed_df(dataset.to_pandas())"
      ]
    },
    {
      "cell_type": "markdown",
      "id": "4dc22766",
      "metadata": {
        "id": "4dc22766"
      },
      "source": [
        "#### Sample row from dataframe\n",
        "\n",
        "Note we use an abridged version of the original text in the _text\\_to\\_encode_ field."
      ]
    },
    {
      "cell_type": "code",
      "execution_count": 6,
      "id": "fff4d03e",
      "metadata": {
        "scrolled": false,
        "colab": {
          "base_uri": "https://localhost:8080/",
          "height": 681
        },
        "id": "fff4d03e",
        "outputId": "00e46a02-c94a-445d-f29b-5982350039ae"
      },
      "outputs": [
        {
          "output_type": "execute_result",
          "data": {
            "text/plain": [
              "                                                                                                                                                                                                                                                                                                                                                                                                                                                                                                                                                                                                                                                                                                                                                                                                                                                                                                                                                                                                                                                                                                                                                                                                                                                                                                                                                                                                                                                                                                                                                                                                                                                                                                                                                                                                                                                                                                                                                                                                                                                                                             1234\n",
              "title                                                                                                                                                                                                                                                                                                                                                                                                                                                                                                                                                                                                                                                                                                                                                                                                                                                                                                                                                                                                                                                                                                                                                                                                                                                                                                                                                                                                                                                                                                                                                                                                                                                                                                                                                                                                                                                                                                                                                                                                                                    Red Sox manager Alex Cora brings youthful eye to new job\n",
              "text              BOSTON (AP) — Dave Dombrowski wanted to make sure he and Alex Cora were on the same page, so the Red Sox boss sent off an email for his new manager's approval.\\nThe response: A thumbs-up emoji.\\nTony La Russa and Jim Leyland never did that.\\n\"He's a good emoji texter,\" Dombrowski said with a laugh this month as the team turned its thoughts toward spring training. \"He's very good with the thumbs-up. My children, they help me out at times.\"\\nA native of Puerto Rico, Cora is already a pioneer as the first minority manager in the history of a franchise that was the last to field a black player. But he's also a new kind of Red Sox dugout boss: One of the youngest managers in franchise history, giving him a unique chance to connect with his players.\\n\"He's not too far removed from actually playing the game. He's played — actually, personally — with some of my teammates now,\" Boston outfielder Jackie Bradley Jr. said. \"I think it's going to be a great combination of old school and new school. He's learned from the past, and he's going to be able to put his own twist on things.\"\\nStill just 42 and in his first major league managerial job, Cora is no newbie.\\nHis shaved head shows the stubble of a receded hairline, with some gray around the temples picked up during a 14-year career spent with six big-league teams. As a member of the Red Sox from 2005-08, he was a part of the franchise's 2007 World Series title and was teammates with current second baseman Dustin Pedroia. (He also overlapped with first baseman Mitch Moreland for about five days with the Rangers in 2010.)\\nIt's this that made him an intriguing choice to replace John Farrell, who was fired last fall at the age of 55 despite leading Boston to the first back-to-back AL East titles in franchise history. Farrell's predecessor, Bobby Valentine, was 62 for his lone season in Boston; you'd have to go back to Kevin Kennedy, who was 41 when he was hired in 1995, to find a younger Red Sox skipper.\\n\"I'm 42. I'm young...\n",
              "domain                                                                                                                                                                                                                                                                                                                                                                                                                                                                                                                                                                                                                                                                                                                                                                                                                                                                                                                                                                                                                                                                                                                                                                                                                                                                                                                                                                                                                                                                                                                                                                                                                                                                                                                                                                                                                                                                                                                                                                                                                                                                      www.taiwannews.com.tw\n",
              "date                                                                                                                                                                                                                                                                                                                                                                                                                                                                                                                                                                                                                                                                                                                                                                                                                                                                                                                                                                                                                                                                                                                                                                                                                                                                                                                                                                                                                                                                                                                                                                                                                                                                                                                                                                                                                                                                                                                                                                                                                                                                          2018-01-29 15:54:00\n",
              "description                                                                                                                                                                                                                                                                                                                                                                                                                                                                                                                                                                                                                                                                                                                                                                                                                                                                                                                                                                                                                                                                                                                                                                                                                                                                                                                                                                                                                                                                                                                                                                                                                                                                                                                                                                                                                                                                                                                                                                                                                              Red Sox manager Alex Cora brings youthful eye to new job\n",
              "url                                                                                                                                                                                                                                                                                                                                                                                                                                                                                                                                                                                                                                                                                                                                                                                                                                                                                                                                                                                                                                                                                                                                                                                                                                                                                                                                                                                                                                                                                                                                                                                                                                                                                                                                                                                                                                                                                                                                                                                                                                                 https://www.taiwannews.com.tw/en/news/3353845\n",
              "image_url                                                                                                                                                                                                                                                                                                                                                                                                                                                                                                                                                                                                                                                                                                                                                                                                                                                                                                                                                                                                                                                                                                                                                                                                                                                                                                                                                                                                                                                                                                                                                                                                                                                                                                                                                                                                                                                                                                                                                                                                                         https://www.taiwannews.com.tw/images/category/580888eb17740.jpg\n",
              "text_to_encode                                                                                                                                                                                                                                                                                                                                                                                                                                                                                                                                                                                                                                                                                                                                                                                                                                                                                                                                                                                                                                                                                                                                                                                                                                                                                                                                                                                                                                                                                                                                                                                                                                                Red Sox manager Alex Cora brings youthful eye to new job BOSTON (AP) — Dave Dombrowski wanted to make sure he and Alex Cora were on the same page, so the Red Sox boss sent off an email for his new manager's approval. The response: A thumbs-up emoji. Tony La Russa and Jim Leyland never did that. \"He's a good emoji texter,\" Dombrowski said with a laugh this month as the team turned its thoughts toward spring training.\n",
              "year                                                                                                                                                                                                                                                                                                                                                                                                                                                                                                                                                                                                                                                                                                                                                                                                                                                                                                                                                                                                                                                                                                                                                                                                                                                                                                                                                                                                                                                                                                                                                                                                                                                                                                                                                                                                                                                                                                                                                                                                                                                                                         2018\n",
              "month                                                                                                                                                                                                                                                                                                                                                                                                                                                                                                                                                                                                                                                                                                                                                                                                                                                                                                                                                                                                                                                                                                                                                                                                                                                                                                                                                                                                                                                                                                                                                                                                                                                                                                                                                                                                                                                                                                                                                                                                                                                                                           1\n",
              "processed_domain                                                                                                                                                                                                                                                                                                                                                                                                                                                                                                                                                                                                                                                                                                                                                                                                                                                                                                                                                                                                                                                                                                                                                                                                                                                                                                                                                                                                                                                                                                                                                                                                                                                                                                                                                                                                                                                                                                                                                                                                                                                            www.taiwannews.com.tw"
            ],
            "text/html": [
              "\n",
              "  <div id=\"df-f8d41ba9-44d2-45d8-a991-ab7350c91e64\">\n",
              "    <div class=\"colab-df-container\">\n",
              "      <div>\n",
              "<style scoped>\n",
              "    .dataframe tbody tr th:only-of-type {\n",
              "        vertical-align: middle;\n",
              "    }\n",
              "\n",
              "    .dataframe tbody tr th {\n",
              "        vertical-align: top;\n",
              "    }\n",
              "\n",
              "    .dataframe thead th {\n",
              "        text-align: right;\n",
              "    }\n",
              "</style>\n",
              "<table border=\"1\" class=\"dataframe\">\n",
              "  <thead>\n",
              "    <tr style=\"text-align: right;\">\n",
              "      <th></th>\n",
              "      <th>1234</th>\n",
              "    </tr>\n",
              "  </thead>\n",
              "  <tbody>\n",
              "    <tr>\n",
              "      <th>title</th>\n",
              "      <td>Red Sox manager Alex Cora brings youthful eye to new job</td>\n",
              "    </tr>\n",
              "    <tr>\n",
              "      <th>text</th>\n",
              "      <td>BOSTON (AP) — Dave Dombrowski wanted to make sure he and Alex Cora were on the same page, so the Red Sox boss sent off an email for his new manager's approval.\\nThe response: A thumbs-up emoji.\\nTony La Russa and Jim Leyland never did that.\\n\"He's a good emoji texter,\" Dombrowski said with a laugh this month as the team turned its thoughts toward spring training. \"He's very good with the thumbs-up. My children, they help me out at times.\"\\nA native of Puerto Rico, Cora is already a pioneer as the first minority manager in the history of a franchise that was the last to field a black player. But he's also a new kind of Red Sox dugout boss: One of the youngest managers in franchise history, giving him a unique chance to connect with his players.\\n\"He's not too far removed from actually playing the game. He's played — actually, personally — with some of my teammates now,\" Boston outfielder Jackie Bradley Jr. said. \"I think it's going to be a great combination of old school and new school. He's learned from the past, and he's going to be able to put his own twist on things.\"\\nStill just 42 and in his first major league managerial job, Cora is no newbie.\\nHis shaved head shows the stubble of a receded hairline, with some gray around the temples picked up during a 14-year career spent with six big-league teams. As a member of the Red Sox from 2005-08, he was a part of the franchise's 2007 World Series title and was teammates with current second baseman Dustin Pedroia. (He also overlapped with first baseman Mitch Moreland for about five days with the Rangers in 2010.)\\nIt's this that made him an intriguing choice to replace John Farrell, who was fired last fall at the age of 55 despite leading Boston to the first back-to-back AL East titles in franchise history. Farrell's predecessor, Bobby Valentine, was 62 for his lone season in Boston; you'd have to go back to Kevin Kennedy, who was 41 when he was hired in 1995, to find a younger Red Sox skipper.\\n\"I'm 42. I'm young...</td>\n",
              "    </tr>\n",
              "    <tr>\n",
              "      <th>domain</th>\n",
              "      <td>www.taiwannews.com.tw</td>\n",
              "    </tr>\n",
              "    <tr>\n",
              "      <th>date</th>\n",
              "      <td>2018-01-29 15:54:00</td>\n",
              "    </tr>\n",
              "    <tr>\n",
              "      <th>description</th>\n",
              "      <td>Red Sox manager Alex Cora brings youthful eye to new job</td>\n",
              "    </tr>\n",
              "    <tr>\n",
              "      <th>url</th>\n",
              "      <td>https://www.taiwannews.com.tw/en/news/3353845</td>\n",
              "    </tr>\n",
              "    <tr>\n",
              "      <th>image_url</th>\n",
              "      <td>https://www.taiwannews.com.tw/images/category/580888eb17740.jpg</td>\n",
              "    </tr>\n",
              "    <tr>\n",
              "      <th>text_to_encode</th>\n",
              "      <td>Red Sox manager Alex Cora brings youthful eye to new job BOSTON (AP) — Dave Dombrowski wanted to make sure he and Alex Cora were on the same page, so the Red Sox boss sent off an email for his new manager's approval. The response: A thumbs-up emoji. Tony La Russa and Jim Leyland never did that. \"He's a good emoji texter,\" Dombrowski said with a laugh this month as the team turned its thoughts toward spring training.</td>\n",
              "    </tr>\n",
              "    <tr>\n",
              "      <th>year</th>\n",
              "      <td>2018</td>\n",
              "    </tr>\n",
              "    <tr>\n",
              "      <th>month</th>\n",
              "      <td>1</td>\n",
              "    </tr>\n",
              "    <tr>\n",
              "      <th>processed_domain</th>\n",
              "      <td>www.taiwannews.com.tw</td>\n",
              "    </tr>\n",
              "  </tbody>\n",
              "</table>\n",
              "</div>\n",
              "      <button class=\"colab-df-convert\" onclick=\"convertToInteractive('df-f8d41ba9-44d2-45d8-a991-ab7350c91e64')\"\n",
              "              title=\"Convert this dataframe to an interactive table.\"\n",
              "              style=\"display:none;\">\n",
              "        \n",
              "  <svg xmlns=\"http://www.w3.org/2000/svg\" height=\"24px\"viewBox=\"0 0 24 24\"\n",
              "       width=\"24px\">\n",
              "    <path d=\"M0 0h24v24H0V0z\" fill=\"none\"/>\n",
              "    <path d=\"M18.56 5.44l.94 2.06.94-2.06 2.06-.94-2.06-.94-.94-2.06-.94 2.06-2.06.94zm-11 1L8.5 8.5l.94-2.06 2.06-.94-2.06-.94L8.5 2.5l-.94 2.06-2.06.94zm10 10l.94 2.06.94-2.06 2.06-.94-2.06-.94-.94-2.06-.94 2.06-2.06.94z\"/><path d=\"M17.41 7.96l-1.37-1.37c-.4-.4-.92-.59-1.43-.59-.52 0-1.04.2-1.43.59L10.3 9.45l-7.72 7.72c-.78.78-.78 2.05 0 2.83L4 21.41c.39.39.9.59 1.41.59.51 0 1.02-.2 1.41-.59l7.78-7.78 2.81-2.81c.8-.78.8-2.07 0-2.86zM5.41 20L4 18.59l7.72-7.72 1.47 1.35L5.41 20z\"/>\n",
              "  </svg>\n",
              "      </button>\n",
              "      \n",
              "  <style>\n",
              "    .colab-df-container {\n",
              "      display:flex;\n",
              "      flex-wrap:wrap;\n",
              "      gap: 12px;\n",
              "    }\n",
              "\n",
              "    .colab-df-convert {\n",
              "      background-color: #E8F0FE;\n",
              "      border: none;\n",
              "      border-radius: 50%;\n",
              "      cursor: pointer;\n",
              "      display: none;\n",
              "      fill: #1967D2;\n",
              "      height: 32px;\n",
              "      padding: 0 0 0 0;\n",
              "      width: 32px;\n",
              "    }\n",
              "\n",
              "    .colab-df-convert:hover {\n",
              "      background-color: #E2EBFA;\n",
              "      box-shadow: 0px 1px 2px rgba(60, 64, 67, 0.3), 0px 1px 3px 1px rgba(60, 64, 67, 0.15);\n",
              "      fill: #174EA6;\n",
              "    }\n",
              "\n",
              "    [theme=dark] .colab-df-convert {\n",
              "      background-color: #3B4455;\n",
              "      fill: #D2E3FC;\n",
              "    }\n",
              "\n",
              "    [theme=dark] .colab-df-convert:hover {\n",
              "      background-color: #434B5C;\n",
              "      box-shadow: 0px 1px 3px 1px rgba(0, 0, 0, 0.15);\n",
              "      filter: drop-shadow(0px 1px 2px rgba(0, 0, 0, 0.3));\n",
              "      fill: #FFFFFF;\n",
              "    }\n",
              "  </style>\n",
              "\n",
              "      <script>\n",
              "        const buttonEl =\n",
              "          document.querySelector('#df-f8d41ba9-44d2-45d8-a991-ab7350c91e64 button.colab-df-convert');\n",
              "        buttonEl.style.display =\n",
              "          google.colab.kernel.accessAllowed ? 'block' : 'none';\n",
              "\n",
              "        async function convertToInteractive(key) {\n",
              "          const element = document.querySelector('#df-f8d41ba9-44d2-45d8-a991-ab7350c91e64');\n",
              "          const dataTable =\n",
              "            await google.colab.kernel.invokeFunction('convertToInteractive',\n",
              "                                                     [key], {});\n",
              "          if (!dataTable) return;\n",
              "\n",
              "          const docLinkHtml = 'Like what you see? Visit the ' +\n",
              "            '<a target=\"_blank\" href=https://colab.research.google.com/notebooks/data_table.ipynb>data table notebook</a>'\n",
              "            + ' to learn more about interactive tables.';\n",
              "          element.innerHTML = '';\n",
              "          dataTable['output_type'] = 'display_data';\n",
              "          await google.colab.output.renderOutput(dataTable, element);\n",
              "          const docLink = document.createElement('div');\n",
              "          docLink.innerHTML = docLinkHtml;\n",
              "          element.appendChild(docLink);\n",
              "        }\n",
              "      </script>\n",
              "    </div>\n",
              "  </div>\n",
              "  "
            ]
          },
          "metadata": {},
          "execution_count": 6
        }
      ],
      "source": [
        "pd.DataFrame(df.iloc[1234])"
      ]
    },
    {
      "cell_type": "markdown",
      "id": "3e57c70f",
      "metadata": {
        "id": "3e57c70f"
      },
      "source": [
        "### Creating your Pinecone Index\n",
        "The process for creating a Pinecone Index requires your Pinecone API key, the name of your index, and the number of dimensions of each vector. As we will see below, the model we are using maps each piece of text to a 384-dimensional vector."
      ]
    },
    {
      "cell_type": "code",
      "execution_count": 8,
      "id": "7d03750c",
      "metadata": {
        "id": "7d03750c"
      },
      "outputs": [],
      "source": [
        "pinecone.init(api_key=h.pinecone_api_key, environment='us-west1-gcp')\n",
        "\n",
        "if INDEX_NAME not in pinecone.list_indexes():\n",
        "    pinecone.create_index(name=INDEX_NAME, dimension=INDEX_DIMENSION)\n",
        "\n",
        "index = pinecone.Index(index_name=INDEX_NAME)"
      ]
    },
    {
      "cell_type": "markdown",
      "id": "546f0219",
      "metadata": {
        "id": "546f0219"
      },
      "source": [
        "## Generate embeddings and send them to your Pinecone Index\n",
        "This will all be done in batches. We will compute embeddings in batch, followed by taking each batch and sending it to Pinecone, also in batches."
      ]
    },
    {
      "cell_type": "markdown",
      "id": "9ecbb5e8",
      "metadata": {
        "id": "9ecbb5e8"
      },
      "source": [
        "### Loading a Pretrained Encoder model.\n",
        "We will generate embeddings by using [this Sentence Transformers model](https://huggingface.co/sentence-transformers/msmarco-MiniLM-L6-cos-v5). It is one of hundreds encoder models available. Downloads happen automatically with SentenceTransformer, and may take up to a minute the first time. After this first import, the model is cached and available on a local machine."
      ]
    },
    {
      "cell_type": "code",
      "execution_count": 9,
      "id": "b4ed4a8c",
      "metadata": {
        "colab": {
          "base_uri": "https://localhost:8080/",
          "height": 70
        },
        "id": "b4ed4a8c",
        "outputId": "c3ae825b-729c-4b49-ecd5-199a18ec0f1f"
      },
      "outputs": [
        {
          "output_type": "display_data",
          "data": {
            "text/plain": [
              "<IPython.core.display.Markdown object>"
            ],
            "text/markdown": "Loading model from _Sentence Transformers_: `sentence-transformers/msmarco-MiniLM-L6-cos-v5` from Sentence Transformers..."
          },
          "metadata": {}
        },
        {
          "output_type": "display_data",
          "data": {
            "text/plain": [
              "<IPython.core.display.Markdown object>"
            ],
            "text/markdown": "Model loaded."
          },
          "metadata": {}
        }
      ],
      "source": [
        "h.printmd(f'Loading model from _Sentence Transformers_: `{MODEL_NAME}` from Sentence Transformers...')\n",
        "model = SentenceTransformer(MODEL_NAME)\n",
        "h.printmd('Model loaded.')"
      ]
    },
    {
      "cell_type": "markdown",
      "id": "fd4d4005",
      "metadata": {
        "id": "fd4d4005"
      },
      "source": [
        "### MSMARCO model v5 and Embeddings\n",
        "\n",
        "In this example, we created an index with 384 dimensions and the [cosine similarity score](https://en.wikipedia.org/wiki/Cosine_similarity). This calculation is trivial when comparing two vectors, but very difficult when needing to compare a query vector against millions or billions of vectors and determine those most similar with the query vector."
      ]
    },
    {
      "cell_type": "markdown",
      "id": "25a13a56",
      "metadata": {
        "id": "25a13a56"
      },
      "source": [
        "#### On Embeddings\n",
        "\n",
        "This model produces vectors from text, each a sequence of 384 floats. So, when a piece of text such as \"A quick fox jumped around\" gets encoded into a vector embedding, the result is a sequence of floats of length 384. The same is true for a long news article and a single word. "
      ]
    },
    {
      "cell_type": "markdown",
      "id": "bb16d277",
      "metadata": {
        "id": "bb16d277"
      },
      "source": [
        "#### On Comparing Embeddings aka _how_ Semantic Search works\n",
        "\n",
        "Two 15-dimensional text embeddings might look like something like: \n",
        " - _\\[-0.02, 0.06, 0.0, 0.01, 0.08, -0.03, 0.01, 0.02, 0.01, 0.02, -0.07, -0.11, -0.01, 0.08, -0.04\\]_\n",
        " - _\\[-0.04, -0.09, 0.04, -0.1, -0.05, -0.01, -0.06, -0.04, -0.02, -0.04, -0.04, 0.07, 0.03, 0.02, 0.03\\]_\n",
        " \n",
        "In order to determine how [_similar_](https://towardsdatascience.com/importance-of-distance-metrics-in-machine-learning-modelling-e51395ffe60d) they are, it is a simple formula that takes a very short time to compute. Similarity scores are, in general, an excellent proxy for semantic similarity. So a natural question one might ask is to compare one vector to a handful of others and select the most similar."
      ]
    },
    {
      "cell_type": "markdown",
      "id": "3d71e442",
      "metadata": {
        "id": "3d71e442"
      },
      "source": [
        "### What is Pinecone for?\n",
        "There is often a technical requirement to compare one vector to tens or hundreds of millions or more vectors, to do so with low latency (less than 50ms) and a high throughput. Pinecone solves this problem with its managed vector database service, and we will demonstrate this below."
      ]
    },
    {
      "cell_type": "markdown",
      "id": "46933021",
      "metadata": {
        "id": "46933021"
      },
      "source": [
        "### Components of a Pinecone vector embedding\n",
        "\n",
        "There are three components to every Pinecone vector embedding:\n",
        " - a vector ID\n",
        " - a sequence of floats of a user-defined, fixed dimension\n",
        " - vector metadata (a key-value store)\n",
        "\n",
        "### Prepare vector embeddings for upload\n",
        "\n",
        "We will encode the news articles for upload to Pinecone. This may take a while depending on your machine. If on a recent MacBookPro or Google Colab, this may take up to one hour, sometimes longer. We will use the index of the pandas dataframe for the vector ID, the pretrained model to generate the sequence of 384 floats, and the year, month and article source for details in the metadata.\n",
        "\n",
        "#### Prepare metadata\n",
        "\n",
        "The function below creates metadata from a single row of the dataframe. This is going to be important further down this notebook for additional filter requirements we will may want to employ in our queries."
      ]
    },
    {
      "cell_type": "code",
      "execution_count": 10,
      "id": "330d389c",
      "metadata": {
        "id": "330d389c"
      },
      "outputs": [],
      "source": [
        "def get_vector_metadata_from_dataframe_row(df_row):\n",
        "    \"\"\"Return vector metadata.\"\"\"\n",
        "    vector_metadata = {\n",
        "        'year': df_row['year'],\n",
        "        'month': df_row['month'],\n",
        "        'source': df_row['processed_domain']\n",
        "    }\n",
        "    return vector_metadata"
      ]
    },
    {
      "cell_type": "markdown",
      "id": "0c1e0478",
      "metadata": {
        "id": "0c1e0478"
      },
      "source": [
        "#### Prepare all vector data for upload\n",
        "\n",
        "The function below will take a portion of the dataframe and create the full vector data as Pinecone expects it for [upsert](https://www.pinecone.io/docs/insert-data/)."
      ]
    },
    {
      "cell_type": "code",
      "execution_count": 11,
      "id": "40c3862c",
      "metadata": {
        "id": "40c3862c"
      },
      "outputs": [],
      "source": [
        "def get_vectors_to_upload_to_pinecone(df_chunk, model):\n",
        "    \"\"\"Return list of tuples like (vector_id, vector_values, vector_metadata).\"\"\"\n",
        "    # create embeddings\n",
        "    # pool = model.start_multi_process_pool()\n",
        "    # vector_values = model.encode_multi_process(df_chunk['text_to_encode'], pool).tolist()\n",
        "    # model.stop_multi_process_pool(pool)\n",
        "    vector_values = model.encode(df_chunk['text_to_encode'], show_progress_bar=True).tolist()\n",
        "    # create vector ids and metadata\n",
        "    vector_ids = df_chunk.index.tolist()\n",
        "    vector_metadata = df_chunk.apply(get_vector_metadata_from_dataframe_row,axis=1).tolist()\n",
        "    return list(zip(vector_ids, vector_values, vector_metadata))"
      ]
    },
    {
      "cell_type": "markdown",
      "id": "040cc6d7",
      "metadata": {
        "id": "040cc6d7"
      },
      "source": [
        "### Upload data to Pinecone in asynchronous batches\n",
        "\n",
        "The function below iterates through the dataframe in chunks, and for each of those chunks, will upload asynchronously in sub-chunks to your Pinecone Index."
      ]
    },
    {
      "cell_type": "code",
      "execution_count": 12,
      "id": "256e593c",
      "metadata": {
        "id": "256e593c"
      },
      "outputs": [],
      "source": [
        "def upload_dataframe_to_pinecone_in_chunks(\n",
        "    dataframe, \n",
        "    pinecone_index, \n",
        "    model, \n",
        "    chunk_size=20000, \n",
        "    upsert_size=500):\n",
        "    \"\"\"Encode dataframe column `text_to_encode` to dense vector and upsert to Pinecone.\"\"\"\n",
        "    tqdm_kwargs = h.get_tqdm_kwargs(dataframe, chunk_size)\n",
        "    async_results = collections.defaultdict(list)\n",
        "    for df_chunk in tqdm.notebook.tqdm(h.chunks(dataframe, chunk_size), **tqdm_kwargs):\n",
        "        vectors = get_vectors_to_upload_to_pinecone(df_chunk, model)\n",
        "        # upload to Pinecone in batches of `upsert_size`\n",
        "        for vectors_chunk in h.chunks(vectors, upsert_size):\n",
        "            start_index_chunk = df_chunk.index[0]\n",
        "            async_result = pinecone_index.upsert(vectors_chunk, async_req=True)\n",
        "            async_results[start_index_chunk].append(async_result)\n",
        "        # wait for results\n",
        "        _ = [async_result.get() for async_result in async_results[start_index_chunk]]\n",
        "        is_all_successful = all(map(lambda x: x.successful(), async_results[start_index_chunk]))\n",
        "        # report chunk upload status\n",
        "        print(\n",
        "        f'All upserts in chunk successful with index starting with {start_index_chunk:>7}: '\n",
        "        f'{is_all_successful}. Vectors uploaded: {len(vectors):>3}.'\n",
        "        )\n",
        "    return async_results"
      ]
    },
    {
      "cell_type": "markdown",
      "id": "0171dc2d",
      "metadata": {
        "id": "0171dc2d"
      },
      "source": [
        "#### Asynchronous Upload\n",
        "Computing the embeddings may several hours depending on hardware capabilities. The Pinecone API responds right away with its [async](https://www.pinecone.io/docs/insert-data/#sending-upserts-in-parallel) requests. "
      ]
    },
    {
      "cell_type": "code",
      "execution_count": 13,
      "id": "5ba75643",
      "metadata": {
        "colab": {
          "base_uri": "https://localhost:8080/",
          "height": 98,
          "referenced_widgets": [
            "a5687208ef774b309947b65d607f0a6a",
            "8eb7ecd268954785850d82d0a96ff890",
            "1c208dbc3d6c4f32acf1864250ac9eee",
            "25d62433854346f4a93c47d1ea07b914",
            "24bce6a711de49458b4d9a472dc8e2c9",
            "7e70a402d3384748a064730926f97b08",
            "7b3e7ed2514d4bd0a3847aa7b39d8da4",
            "2f4ab102b340485e87bbcfeac1214489",
            "917e9246187f4319a1645595f610d18f",
            "ba8f12e9ab4045c1b73124c9978a7397",
            "8b329e76bb354b9cb210c1cc8a16eb67",
            "5ecd313f2ebb406394503e5cf5773efc",
            "7fbc403d8fe340a8a2c42940813e5123",
            "13eaf85672db4017a7a72c449e06159a",
            "fcd26f4e93b945fcbd56b417dafc5309",
            "8dbc98626ef44f96a0a9ceb65b484386",
            "0b29bce1aa3c44168538327a0366c58d",
            "37d2e998c3d74d478bd175611e27947c",
            "b97a1c5d4282407daf7d4b9a8ab44b0b",
            "ec0b046d2c4142d89b02789dd1f48373",
            "576af5009dd141b691e230c201f98835",
            "aa1062b43676454395ea3fbcdaab0253"
          ]
        },
        "id": "5ba75643",
        "outputId": "502810b5-14b4-44c2-d924-c5ccef9f406d"
      },
      "outputs": [
        {
          "output_type": "display_data",
          "data": {
            "text/plain": [
              "  0%|          | 0/1 [00:00<?, ?chunk of vectors/s]"
            ],
            "application/vnd.jupyter.widget-view+json": {
              "version_major": 2,
              "version_minor": 0,
              "model_id": "a5687208ef774b309947b65d607f0a6a"
            }
          },
          "metadata": {}
        },
        {
          "output_type": "display_data",
          "data": {
            "text/plain": [
              "Batches:   0%|          | 0/94 [00:00<?, ?it/s]"
            ],
            "application/vnd.jupyter.widget-view+json": {
              "version_major": 2,
              "version_minor": 0,
              "model_id": "5ecd313f2ebb406394503e5cf5773efc"
            }
          },
          "metadata": {}
        },
        {
          "output_type": "stream",
          "name": "stdout",
          "text": [
            "All upserts in chunk successful with index starting with       0: True. Vectors uploaded: 3000.\n"
          ]
        }
      ],
      "source": [
        "async_results = upload_dataframe_to_pinecone_in_chunks(df, index, model)"
      ]
    },
    {
      "cell_type": "markdown",
      "id": "0eddac13",
      "metadata": {
        "id": "0eddac13"
      },
      "source": [
        "### Visualize the status of your upserts in the Pinecone Console\n",
        "\n",
        "<img src='https://raw.githubusercontent.com/startakovsky/pinecone-examples-fork/may-2022-semantic-text-search-refresh/semantic_text_search/pinecone_console.png'>"
      ]
    },
    {
      "cell_type": "markdown",
      "id": "d2f6de60",
      "metadata": {
        "id": "d2f6de60"
      },
      "source": [
        "## Querying Pinecone\n",
        "\n",
        "Now that all the embeddings of the texts are on Pinecone's database, it's time to demonstrate Pinecone's lightning fast semantic search query capabilities."
      ]
    },
    {
      "cell_type": "markdown",
      "id": "a8e5033f",
      "metadata": {
        "id": "a8e5033f"
      },
      "source": [
        "### Pinecone Example Usage\n",
        "\n",
        "In the below example we query Pinecone's API with an embedding of a query term to return the vector embeddings that have the highest similarity score. Pinecone effeciently estimates which of the uploaded vector embeddings have the highest similarity when paired with the query term's embedding, and the database will scale to billions of embeddings maintaining low-latency and high throughput. In this example we have upserted up to 700,000 embeddings (depending on the `row` variable). Our [starter plan](https://www.pinecone.io/pricing/) supports up to one million. "
      ]
    },
    {
      "cell_type": "markdown",
      "id": "d6c62f6d",
      "metadata": {
        "id": "d6c62f6d"
      },
      "source": [
        "#### Example: Pinecone API Request and Response\n",
        "\n",
        "Let's find articles with a similar semantic meaning to the `query` variable."
      ]
    },
    {
      "cell_type": "code",
      "execution_count": 14,
      "id": "cf9ff99a",
      "metadata": {
        "colab": {
          "base_uri": "https://localhost:8080/",
          "height": 447
        },
        "id": "cf9ff99a",
        "outputId": "2f0735bf-395b-47a9-c6e9-8e2c243e7f82"
      },
      "outputs": [
        {
          "output_type": "display_data",
          "data": {
            "text/plain": [
              "<IPython.core.display.Markdown object>"
            ],
            "text/markdown": "#### A sample response from Pinecone \n ==============\n \n ```python\n{'matches': [],\n 'namespace': '',\n 'results': [{'matches': [{'id': '2186',\n                           'metadata': {'month': 1.0,\n                                        'source': 'www.taiwannews.com.tw',\n                                        'year': 2018.0},\n                           'score': 0.313842267,\n                           'values': []},\n                          {'id': '1236',\n                           'metadata': {'month': 2.0,\n                                        'source': 'www.taiwannews.com.tw',\n                                        'year': 2018.0},\n                           'score': 0.306809902,\n                           'values': []},\n                          {'id': '2909',\n                           'metadata': {'month': 2.0,\n                                        'source': 'www.taiwannews.com.tw',\n                                        'year': 2018.0},\n                           'score': 0.282276869,\n                           'values': []}],\n              'namespace': ''}]}\n```"
          },
          "metadata": {}
        }
      ],
      "source": [
        "query = \"Is too much Co2 bad for the Ocean?\"\n",
        "vector_embedding = model.encode(query).tolist()\n",
        "response = index.query([vector_embedding], top_k=3, include_metadata=True)\n",
        "h.printmd(f\"#### A sample response from Pinecone \\n ==============\\n \\n ```python\\n{response}\\n```\")"
      ]
    },
    {
      "cell_type": "markdown",
      "id": "1bb9be70",
      "metadata": {
        "id": "1bb9be70"
      },
      "source": [
        "#### Enriched Response\n",
        "To show which questions we retreived, the above response needs to be enriched using the original dataset."
      ]
    },
    {
      "cell_type": "code",
      "execution_count": 15,
      "id": "0325ed51",
      "metadata": {
        "colab": {
          "base_uri": "https://localhost:8080/",
          "height": 1000
        },
        "id": "0325ed51",
        "outputId": "a108cf27-9492-4b55-c010-046675b544a4"
      },
      "outputs": [
        {
          "output_type": "execute_result",
          "data": {
            "text/plain": [
              "<pandas.io.formats.style.Styler at 0x7efd092a8250>"
            ],
            "text/html": [
              "<style type=\"text/css\">\n",
              "</style>\n",
              "<table id=\"T_3fa39_\" class=\"dataframe\">\n",
              "  <thead>\n",
              "    <tr>\n",
              "      <th class=\"blank level0\" >&nbsp;</th>\n",
              "      <th class=\"col_heading level0 col0\" >title</th>\n",
              "      <th class=\"col_heading level0 col1\" >score</th>\n",
              "      <th class=\"col_heading level0 col2\" >domain</th>\n",
              "      <th class=\"col_heading level0 col3\" >date</th>\n",
              "      <th class=\"col_heading level0 col4\" >description</th>\n",
              "      <th class=\"col_heading level0 col5\" >url</th>\n",
              "      <th class=\"col_heading level0 col6\" >text_to_encode</th>\n",
              "    </tr>\n",
              "    <tr>\n",
              "      <th class=\"index_name level0\" >vector_id</th>\n",
              "      <th class=\"blank col0\" >&nbsp;</th>\n",
              "      <th class=\"blank col1\" >&nbsp;</th>\n",
              "      <th class=\"blank col2\" >&nbsp;</th>\n",
              "      <th class=\"blank col3\" >&nbsp;</th>\n",
              "      <th class=\"blank col4\" >&nbsp;</th>\n",
              "      <th class=\"blank col5\" >&nbsp;</th>\n",
              "      <th class=\"blank col6\" >&nbsp;</th>\n",
              "    </tr>\n",
              "  </thead>\n",
              "  <tbody>\n",
              "    <tr>\n",
              "      <th id=\"T_3fa39_level0_row0\" class=\"row_heading level0 row0\" >2186</th>\n",
              "      <td id=\"T_3fa39_row0_col0\" class=\"data row0 col0\" >EU warns of legal action over air quality standards</td>\n",
              "      <td id=\"T_3fa39_row0_col1\" class=\"data row0 col1\" >0.31</td>\n",
              "      <td id=\"T_3fa39_row0_col2\" class=\"data row0 col2\" >www.taiwannews.com.tw</td>\n",
              "      <td id=\"T_3fa39_row0_col3\" class=\"data row0 col3\" >2018-01-30 19:37:00</td>\n",
              "      <td id=\"T_3fa39_row0_col4\" class=\"data row0 col4\" >EU warns of legal action over air quality standards</td>\n",
              "      <td id=\"T_3fa39_row0_col5\" class=\"data row0 col5\" ><a target=\"_blank\" href=\"https://www.taiwannews.com.tw/en/news/3354161\">link</a></td>\n",
              "      <td id=\"T_3fa39_row0_col6\" class=\"data row0 col6\" >EU warns of legal action over air quality standards BRUSSELS (AP) — The European Union's top environment official has warned several member countries that they face legal action if they continue to flout the bloc's air quality standards. Environment Commissioner Karmenu Vella said Tuesday that \"we cannot go on postponing and delaying,\" noting that some countries are still failing to meet deadlines set for 2005 and 2010. His warning came after talks with representatives from Britain, the Czech Republic, France, Germany, Hungary, Italy, Romania, Slovakia and Spain. Vella said some had proposed new measures to meet EU air quality standards governing particles levels from sources like vehicle exhausts or industry, but that at first view the measures appear insufficient. He gave the countries until the end of next week to formally submit the proposals for EU Commission analysis.</td>\n",
              "    </tr>\n",
              "    <tr>\n",
              "      <th id=\"T_3fa39_level0_row1\" class=\"row_heading level0 row1\" >1236</th>\n",
              "      <td id=\"T_3fa39_row1_col0\" class=\"data row1 col0\" >'Day Zero': Water shut-off looms in South Africa's Cape Town</td>\n",
              "      <td id=\"T_3fa39_row1_col1\" class=\"data row1 col1\" >0.31</td>\n",
              "      <td id=\"T_3fa39_row1_col2\" class=\"data row1 col2\" >www.taiwannews.com.tw</td>\n",
              "      <td id=\"T_3fa39_row1_col3\" class=\"data row1 col3\" >2018-02-03 15:00:00</td>\n",
              "      <td id=\"T_3fa39_row1_col4\" class=\"data row1 col4\" >'Day Zero': Water shut-off looms in South Africa's Cape Town</td>\n",
              "      <td id=\"T_3fa39_row1_col5\" class=\"data row1 col5\" ><a target=\"_blank\" href=\"https://www.taiwannews.com.tw/en/news/3353749\">link</a></td>\n",
              "      <td id=\"T_3fa39_row1_col6\" class=\"data row1 col6\" >'Day Zero': Water shut-off looms in South Africa's Cape Town CAPE TOWN, South Africa (AP) — Long lines of South Africans collect water daily from a natural spring pipeline in an upscale suburb of Cape Town, illustrating the harsh impact of a drought that authorities say could force the closure of most taps in the country's second largest city in just over two months, an occasion ominously known as \"Day Zero.\"\n",
              "The prospect that large sections of South Africa's showcase city, famously perched near two oceans, might go without running water has induced anxiety as well as resolve among its nearly 4 million residents. It has attracted scrutiny from scientists and city managers worldwide who also face the dual challenge of ballooning populations and shrinking resources. This would be the world's first major city to go dry. \"There are a lot of people who have been in denial and now they suddenly realize this is for real,\" said Shirley Curry, who waited to fill a plastic container with spring water from one of several taps outside a South African Breweries facility in the Newlands suburb. Security guards made sure people took only an allotted amount (25 liters maximum in one line and 15 liters in another \"express\" line).</td>\n",
              "    </tr>\n",
              "    <tr>\n",
              "      <th id=\"T_3fa39_level0_row2\" class=\"row_heading level0 row2\" >2909</th>\n",
              "      <td id=\"T_3fa39_row2_col0\" class=\"data row2 col0\" >WildAid and model Hannah Quinlivan urge the public to not eat shark fins</td>\n",
              "      <td id=\"T_3fa39_row2_col1\" class=\"data row2 col1\" >0.28</td>\n",
              "      <td id=\"T_3fa39_row2_col2\" class=\"data row2 col2\" >www.taiwannews.com.tw</td>\n",
              "      <td id=\"T_3fa39_row2_col3\" class=\"data row2 col3\" >2018-02-04 13:33:00</td>\n",
              "      <td id=\"T_3fa39_row2_col4\" class=\"data row2 col4\" >Also from a health point of view, eating shark fins which contain much mercury and lead is not healthy</td>\n",
              "      <td id=\"T_3fa39_row2_col5\" class=\"data row2 col5\" ><a target=\"_blank\" href=\"https://www.taiwannews.com.tw/en/news/3355175\">link</a></td>\n",
              "      <td id=\"T_3fa39_row2_col6\" class=\"data row2 col6\" >WildAid and model Hannah Quinlivan urge the public to not eat shark fins TAIPEI (Taiwan News)—Model Hannah Quinlivan (昆凌), who serves as the global charity ambassador for WildAid this year, advocated for the “protect the ocean and say no to shark fin soup” campaign in a press conference in Taipei on February 3, urging the public to stop using shark fins for any diet in order to stop shark-finning and shark fin trading. John Baker, managing director for WildAid, said, “in particular, we want to build the campaign and make it more important to save the shark in the ocean\" at a time when the predator, which everyone gets scared of, need help.”\n",
              "“Unfortunately, for many years, we have all been talking about many reasons why we should no longer be consuming and serving shark fin soups; however, there are still way too many sharks being killed for their fins, so today we are here to begin again the campaign to remind everyone to not buy, eat shark fin soups for their health.”\n",
              "Noting that there are more than 300 species of sharks around the world and only about 14 of them have legal protection against international trade, Baker said sharks do not have the same legal protection as many other species, and “it’s why we have to be together, volunteer, make our own effort and pledge never to use, buy or serve shark fins.”\n",
              "Practically it is also very difficult to enforce the laws protecting the few shark species because most officials can’t tell one shark fin from another, he said, adding that therefore the best solution is to stop using them. Chang Chang-ter (張章得), chairman of the Life Conservationist Association (LCA), said that Taiwan not only catches sharks for their fins but also imports them from around the world for consumption, adding that Taiwan imported about 500 tons of shark fins in 2017. However, citing inspection findings, Chang said large quantities of mercury, lead and other heavy metals have been found in shark fins.</td>\n",
              "    </tr>\n",
              "  </tbody>\n",
              "</table>\n"
            ]
          },
          "metadata": {},
          "execution_count": 15
        }
      ],
      "source": [
        "vector_ids, scores = h.get_ids_scores(response)\n",
        "result = df.loc[vector_ids]\n",
        "result['score'] = scores\n",
        "result[['title', 'score', 'domain', 'date', 'description', 'url', 'text_to_encode']].style.format(\n",
        "    {\n",
        "        'url': h.make_clickable, \n",
        "        'score': lambda x: round(x, 2)\n",
        "    }\n",
        ")"
      ]
    },
    {
      "cell_type": "markdown",
      "id": "4c84b072",
      "metadata": {
        "id": "4c84b072"
      },
      "source": [
        "#### Are the results any good?\n",
        "\n",
        "We invite the reader to explore various queries by running the code in the last two cells. Note that this is **not a keyword search** but rather a **search for semantically similar results**. Note the _score_ column indicating the similarity score with the query. Better scores are typically associated with more semantic similarity."
      ]
    },
    {
      "cell_type": "markdown",
      "id": "b3108f73",
      "metadata": {
        "id": "b3108f73"
      },
      "source": [
        "### Pinecone Example Usage With [Metadata](https://www.pinecone.io/docs/metadata-filtering/)\n",
        "\n",
        "Extensive predicate logic can be applied to metadata filtering, just like the [WHERE clause](https://www.pinecone.io/learn/vector-search-filtering/) in SQL! Pinecone's [metadata feature](https://www.pinecone.io/docs/metadata-filtering/) provides easy-to-implement filtering.\n",
        "\n",
        "Here are the top 20 sources, with the rest grouped into the _other_ category. We will filter results so that they come from any of the top 5 sources of articles written in 2018 or 2019. We are able to do this because you've provided this metadata when upserting the vectors to your Pinecone index."
      ]
    },
    {
      "cell_type": "code",
      "execution_count": 16,
      "id": "8ec9b606",
      "metadata": {
        "colab": {
          "base_uri": "https://localhost:8080/"
        },
        "id": "8ec9b606",
        "outputId": "4c09c023-4442-41e7-d782-ea3a17a054f0"
      },
      "outputs": [
        {
          "output_type": "stream",
          "name": "stdout",
          "text": [
            "www.taiwannews.com.tw, tpr.org, www.techrepublic.com, www.grandforksherald.com, jezebel.com, banglalive.com, www.pointemagazine.com, flowingdata.com, www.centralchronicle.com, georgiatech.rivals.com, www.nowdecatur.com, www.sparkspread.com, onefoottsunami.com, www.fitzhugh.ca, robmosesphotography.com, baycommunitynews.com, www.designwizard.com, n.rivals.com\n"
          ]
        }
      ],
      "source": [
        "sources = h.get_top_sources(df)\n",
        "print(*sources, sep=', ')"
      ]
    },
    {
      "cell_type": "code",
      "execution_count": 17,
      "id": "4c61a4bd",
      "metadata": {
        "scrolled": false,
        "colab": {
          "base_uri": "https://localhost:8080/",
          "height": 1000
        },
        "id": "4c61a4bd",
        "outputId": "a70521a6-cf6d-45a2-8adc-d0af39f12154"
      },
      "outputs": [
        {
          "output_type": "execute_result",
          "data": {
            "text/plain": [
              "<pandas.io.formats.style.Styler at 0x7efd092669d0>"
            ],
            "text/html": [
              "<style type=\"text/css\">\n",
              "</style>\n",
              "<table id=\"T_8f586_\" class=\"dataframe\">\n",
              "  <thead>\n",
              "    <tr>\n",
              "      <th class=\"blank level0\" >&nbsp;</th>\n",
              "      <th class=\"col_heading level0 col0\" >title</th>\n",
              "      <th class=\"col_heading level0 col1\" >score</th>\n",
              "      <th class=\"col_heading level0 col2\" >domain</th>\n",
              "      <th class=\"col_heading level0 col3\" >date</th>\n",
              "      <th class=\"col_heading level0 col4\" >description</th>\n",
              "      <th class=\"col_heading level0 col5\" >url</th>\n",
              "      <th class=\"col_heading level0 col6\" >text_to_encode</th>\n",
              "    </tr>\n",
              "    <tr>\n",
              "      <th class=\"index_name level0\" >vector_id</th>\n",
              "      <th class=\"blank col0\" >&nbsp;</th>\n",
              "      <th class=\"blank col1\" >&nbsp;</th>\n",
              "      <th class=\"blank col2\" >&nbsp;</th>\n",
              "      <th class=\"blank col3\" >&nbsp;</th>\n",
              "      <th class=\"blank col4\" >&nbsp;</th>\n",
              "      <th class=\"blank col5\" >&nbsp;</th>\n",
              "      <th class=\"blank col6\" >&nbsp;</th>\n",
              "    </tr>\n",
              "  </thead>\n",
              "  <tbody>\n",
              "    <tr>\n",
              "      <th id=\"T_8f586_level0_row0\" class=\"row_heading level0 row0\" >2186</th>\n",
              "      <td id=\"T_8f586_row0_col0\" class=\"data row0 col0\" >EU warns of legal action over air quality standards</td>\n",
              "      <td id=\"T_8f586_row0_col1\" class=\"data row0 col1\" >0.31</td>\n",
              "      <td id=\"T_8f586_row0_col2\" class=\"data row0 col2\" >www.taiwannews.com.tw</td>\n",
              "      <td id=\"T_8f586_row0_col3\" class=\"data row0 col3\" >2018-01-30 19:37:00</td>\n",
              "      <td id=\"T_8f586_row0_col4\" class=\"data row0 col4\" >EU warns of legal action over air quality standards</td>\n",
              "      <td id=\"T_8f586_row0_col5\" class=\"data row0 col5\" ><a target=\"_blank\" href=\"https://www.taiwannews.com.tw/en/news/3354161\">link</a></td>\n",
              "      <td id=\"T_8f586_row0_col6\" class=\"data row0 col6\" >EU warns of legal action over air quality standards BRUSSELS (AP) — The European Union's top environment official has warned several member countries that they face legal action if they continue to flout the bloc's air quality standards. Environment Commissioner Karmenu Vella said Tuesday that \"we cannot go on postponing and delaying,\" noting that some countries are still failing to meet deadlines set for 2005 and 2010. His warning came after talks with representatives from Britain, the Czech Republic, France, Germany, Hungary, Italy, Romania, Slovakia and Spain. Vella said some had proposed new measures to meet EU air quality standards governing particles levels from sources like vehicle exhausts or industry, but that at first view the measures appear insufficient. He gave the countries until the end of next week to formally submit the proposals for EU Commission analysis.</td>\n",
              "    </tr>\n",
              "    <tr>\n",
              "      <th id=\"T_8f586_level0_row1\" class=\"row_heading level0 row1\" >1236</th>\n",
              "      <td id=\"T_8f586_row1_col0\" class=\"data row1 col0\" >'Day Zero': Water shut-off looms in South Africa's Cape Town</td>\n",
              "      <td id=\"T_8f586_row1_col1\" class=\"data row1 col1\" >0.31</td>\n",
              "      <td id=\"T_8f586_row1_col2\" class=\"data row1 col2\" >www.taiwannews.com.tw</td>\n",
              "      <td id=\"T_8f586_row1_col3\" class=\"data row1 col3\" >2018-02-03 15:00:00</td>\n",
              "      <td id=\"T_8f586_row1_col4\" class=\"data row1 col4\" >'Day Zero': Water shut-off looms in South Africa's Cape Town</td>\n",
              "      <td id=\"T_8f586_row1_col5\" class=\"data row1 col5\" ><a target=\"_blank\" href=\"https://www.taiwannews.com.tw/en/news/3353749\">link</a></td>\n",
              "      <td id=\"T_8f586_row1_col6\" class=\"data row1 col6\" >'Day Zero': Water shut-off looms in South Africa's Cape Town CAPE TOWN, South Africa (AP) — Long lines of South Africans collect water daily from a natural spring pipeline in an upscale suburb of Cape Town, illustrating the harsh impact of a drought that authorities say could force the closure of most taps in the country's second largest city in just over two months, an occasion ominously known as \"Day Zero.\"\n",
              "The prospect that large sections of South Africa's showcase city, famously perched near two oceans, might go without running water has induced anxiety as well as resolve among its nearly 4 million residents. It has attracted scrutiny from scientists and city managers worldwide who also face the dual challenge of ballooning populations and shrinking resources. This would be the world's first major city to go dry. \"There are a lot of people who have been in denial and now they suddenly realize this is for real,\" said Shirley Curry, who waited to fill a plastic container with spring water from one of several taps outside a South African Breweries facility in the Newlands suburb. Security guards made sure people took only an allotted amount (25 liters maximum in one line and 15 liters in another \"express\" line).</td>\n",
              "    </tr>\n",
              "    <tr>\n",
              "      <th id=\"T_8f586_level0_row2\" class=\"row_heading level0 row2\" >2909</th>\n",
              "      <td id=\"T_8f586_row2_col0\" class=\"data row2 col0\" >WildAid and model Hannah Quinlivan urge the public to not eat shark fins</td>\n",
              "      <td id=\"T_8f586_row2_col1\" class=\"data row2 col1\" >0.28</td>\n",
              "      <td id=\"T_8f586_row2_col2\" class=\"data row2 col2\" >www.taiwannews.com.tw</td>\n",
              "      <td id=\"T_8f586_row2_col3\" class=\"data row2 col3\" >2018-02-04 13:33:00</td>\n",
              "      <td id=\"T_8f586_row2_col4\" class=\"data row2 col4\" >Also from a health point of view, eating shark fins which contain much mercury and lead is not healthy</td>\n",
              "      <td id=\"T_8f586_row2_col5\" class=\"data row2 col5\" ><a target=\"_blank\" href=\"https://www.taiwannews.com.tw/en/news/3355175\">link</a></td>\n",
              "      <td id=\"T_8f586_row2_col6\" class=\"data row2 col6\" >WildAid and model Hannah Quinlivan urge the public to not eat shark fins TAIPEI (Taiwan News)—Model Hannah Quinlivan (昆凌), who serves as the global charity ambassador for WildAid this year, advocated for the “protect the ocean and say no to shark fin soup” campaign in a press conference in Taipei on February 3, urging the public to stop using shark fins for any diet in order to stop shark-finning and shark fin trading. John Baker, managing director for WildAid, said, “in particular, we want to build the campaign and make it more important to save the shark in the ocean\" at a time when the predator, which everyone gets scared of, need help.”\n",
              "“Unfortunately, for many years, we have all been talking about many reasons why we should no longer be consuming and serving shark fin soups; however, there are still way too many sharks being killed for their fins, so today we are here to begin again the campaign to remind everyone to not buy, eat shark fin soups for their health.”\n",
              "Noting that there are more than 300 species of sharks around the world and only about 14 of them have legal protection against international trade, Baker said sharks do not have the same legal protection as many other species, and “it’s why we have to be together, volunteer, make our own effort and pledge never to use, buy or serve shark fins.”\n",
              "Practically it is also very difficult to enforce the laws protecting the few shark species because most officials can’t tell one shark fin from another, he said, adding that therefore the best solution is to stop using them. Chang Chang-ter (張章得), chairman of the Life Conservationist Association (LCA), said that Taiwan not only catches sharks for their fins but also imports them from around the world for consumption, adding that Taiwan imported about 500 tons of shark fins in 2017. However, citing inspection findings, Chang said large quantities of mercury, lead and other heavy metals have been found in shark fins.</td>\n",
              "    </tr>\n",
              "    <tr>\n",
              "      <th id=\"T_8f586_level0_row3\" class=\"row_heading level0 row3\" >2058</th>\n",
              "      <td id=\"T_8f586_row3_col0\" class=\"data row3 col0\" >Cape Town reports 1 arrest as tensions rise amid drought</td>\n",
              "      <td id=\"T_8f586_row3_col1\" class=\"data row3 col1\" >0.27</td>\n",
              "      <td id=\"T_8f586_row3_col2\" class=\"data row3 col2\" >www.taiwannews.com.tw</td>\n",
              "      <td id=\"T_8f586_row3_col3\" class=\"data row3 col3\" >2018-01-31 22:32:00</td>\n",
              "      <td id=\"T_8f586_row3_col4\" class=\"data row3 col4\" >Cape Town reports 1 arrest as tensions rise amid drought</td>\n",
              "      <td id=\"T_8f586_row3_col5\" class=\"data row3 col5\" ><a target=\"_blank\" href=\"https://www.taiwannews.com.tw/en/news/3354826\">link</a></td>\n",
              "      <td id=\"T_8f586_row3_col6\" class=\"data row3 col6\" >Cape Town reports 1 arrest as tensions rise amid drought JOHANNESBURG (AP) — The South African city of Cape Town says there has been growing tension and one arrest at a source of natural spring water where residents have converged because of a severe drought. Authorities say they might have to turn off most city taps in mid-April if residents don't save enough water, a scenario that has raised concerns about security. The city says police and the military would help secure water collection sites if the tap closure occurs. The city says it is taking over management of the Newlands neighborhood site because noise and traffic congestion by people collecting water around the clock is disturbing neighbors and an adjacent home for the elderly. The city says police detained one person earlier this week after a fight broke out.</td>\n",
              "    </tr>\n",
              "    <tr>\n",
              "      <th id=\"T_8f586_level0_row4\" class=\"row_heading level0 row4\" >1260</th>\n",
              "      <td id=\"T_8f586_row4_col0\" class=\"data row4 col0\" >Leaked report: UK economy will be worse off after Brexit</td>\n",
              "      <td id=\"T_8f586_row4_col1\" class=\"data row4 col1\" >0.26</td>\n",
              "      <td id=\"T_8f586_row4_col2\" class=\"data row4 col2\" >www.taiwannews.com.tw</td>\n",
              "      <td id=\"T_8f586_row4_col3\" class=\"data row4 col3\" >2018-01-30 09:49:00</td>\n",
              "      <td id=\"T_8f586_row4_col4\" class=\"data row4 col4\" >Leaked report: UK economy will be worse off after Brexit</td>\n",
              "      <td id=\"T_8f586_row4_col5\" class=\"data row4 col5\" ><a target=\"_blank\" href=\"https://www.taiwannews.com.tw/en/news/3354015\">link</a></td>\n",
              "      <td id=\"T_8f586_row4_col6\" class=\"data row4 col6\" >Leaked report: UK economy will be worse off after Brexit LONDON (AP) — A forecast prepared for the British government reportedly says the economy will be worse off after the country leaves the European Union whatever trade deal is struck with the bloc. The leaked assessment published Monday by news website BuzzFeed says if Britain reaches a free trade deal with the EU, growth will be 5 percent lower than current forecasts over 15 years. The document, dated this month, says if there is no deal and Britain resorts to World Trade Organization terms, growth will fall 8 percent. If Britain remains in the EU single market but as a non-bloc member, the decline will be 2 percent. The government maintains that Britain will be able to strike new trade deals around the world after Brexit to replace any decline with the EU.</td>\n",
              "    </tr>\n",
              "  </tbody>\n",
              "</table>\n"
            ]
          },
          "metadata": {},
          "execution_count": 17
        }
      ],
      "source": [
        "response = index.query(\n",
        "    [vector_embedding], \n",
        "    top_k=5, \n",
        "    filter={\n",
        "        \"$and\": [\n",
        "            {'year': {'$in': [2018, 2019]}},\n",
        "            {'source': {'$in': sources[:5]}}\n",
        "        ]\n",
        "    }\n",
        ")\n",
        "vector_ids, scores = h.get_ids_scores(response)\n",
        "result = df.loc[vector_ids]\n",
        "result['score'] = scores\n",
        "result[['title', 'score', 'domain', 'date', 'description', 'url', 'text_to_encode']].style.format(\n",
        "    {\n",
        "        'url': h.make_clickable, \n",
        "        'score': lambda x: round(x, 2)\n",
        "    }\n",
        ")"
      ]
    },
    {
      "cell_type": "markdown",
      "id": "fa29d82b",
      "metadata": {
        "id": "fa29d82b"
      },
      "source": [
        "#### Are the results any good?\n",
        "\n",
        "We leave this to the reader to assess, as it is subjective. One thing to notice is the the similarity scores are a bit lower when retreiving from the top news sources. This is not surprising, since one might expect relevant results to come from more scientific sources such as _phys.org_ and _sciencedaily.com_."
      ]
    },
    {
      "cell_type": "markdown",
      "id": "d3a42e36",
      "metadata": {
        "id": "d3a42e36"
      },
      "source": [
        "## Conclusion\n",
        "\n",
        "In this example, we demonstrated how trivial Pinecone makes it possible to do semantic search using a pre-trained transformer-encoder model with Pinecone to achieve realtime similarity retrieval! We demonstrated the use of metadata filtering with querying Pinecone's vector database."
      ]
    },
    {
      "cell_type": "markdown",
      "id": "d5fed76d",
      "metadata": {
        "id": "d5fed76d"
      },
      "source": [
        "### Like what you see? Explore our [community](https://www.pinecone.io/community/)\n",
        "Learn more about semantic search and the rich, performant, and production-level feature set of Pinecone's Vector Database by visiting https://pinecone.io, connecting with us [here](https://www.pinecone.io/contact/) and [following us](https://www.linkedin.com/company/pinecone-io) on LinkedIn. If interested in some of the algorithms that allow for effecient estimation of similar vectors, visit our Algorithms and Libraries section of our [Learning Center](https://www.pinecone.io/learn/)."
      ]
    }
  ],
  "metadata": {
    "kernelspec": {
      "display_name": "Python 3 (ipykernel)",
      "language": "python",
      "name": "python3"
    },
    "language_info": {
      "codemirror_mode": {
        "name": "ipython",
        "version": 3
      },
      "file_extension": ".py",
      "mimetype": "text/x-python",
      "name": "python",
      "nbconvert_exporter": "python",
      "pygments_lexer": "ipython3",
      "version": "3.10.1"
    },
    "colab": {
      "name": "semantic_text_search_refresh.ipynb",
      "provenance": [],
      "collapsed_sections": []
    },
    "widgets": {
      "application/vnd.jupyter.widget-state+json": {
        "a5687208ef774b309947b65d607f0a6a": {
          "model_module": "@jupyter-widgets/controls",
          "model_name": "HBoxModel",
          "model_module_version": "1.5.0",
          "state": {
            "_dom_classes": [],
            "_model_module": "@jupyter-widgets/controls",
            "_model_module_version": "1.5.0",
            "_model_name": "HBoxModel",
            "_view_count": null,
            "_view_module": "@jupyter-widgets/controls",
            "_view_module_version": "1.5.0",
            "_view_name": "HBoxView",
            "box_style": "",
            "children": [
              "IPY_MODEL_8eb7ecd268954785850d82d0a96ff890",
              "IPY_MODEL_1c208dbc3d6c4f32acf1864250ac9eee",
              "IPY_MODEL_25d62433854346f4a93c47d1ea07b914"
            ],
            "layout": "IPY_MODEL_24bce6a711de49458b4d9a472dc8e2c9"
          }
        },
        "8eb7ecd268954785850d82d0a96ff890": {
          "model_module": "@jupyter-widgets/controls",
          "model_name": "HTMLModel",
          "model_module_version": "1.5.0",
          "state": {
            "_dom_classes": [],
            "_model_module": "@jupyter-widgets/controls",
            "_model_module_version": "1.5.0",
            "_model_name": "HTMLModel",
            "_view_count": null,
            "_view_module": "@jupyter-widgets/controls",
            "_view_module_version": "1.5.0",
            "_view_name": "HTMLView",
            "description": "",
            "description_tooltip": null,
            "layout": "IPY_MODEL_7e70a402d3384748a064730926f97b08",
            "placeholder": "​",
            "style": "IPY_MODEL_7b3e7ed2514d4bd0a3847aa7b39d8da4",
            "value": "100%"
          }
        },
        "1c208dbc3d6c4f32acf1864250ac9eee": {
          "model_module": "@jupyter-widgets/controls",
          "model_name": "FloatProgressModel",
          "model_module_version": "1.5.0",
          "state": {
            "_dom_classes": [],
            "_model_module": "@jupyter-widgets/controls",
            "_model_module_version": "1.5.0",
            "_model_name": "FloatProgressModel",
            "_view_count": null,
            "_view_module": "@jupyter-widgets/controls",
            "_view_module_version": "1.5.0",
            "_view_name": "ProgressView",
            "bar_style": "success",
            "description": "",
            "description_tooltip": null,
            "layout": "IPY_MODEL_2f4ab102b340485e87bbcfeac1214489",
            "max": 1,
            "min": 0,
            "orientation": "horizontal",
            "style": "IPY_MODEL_917e9246187f4319a1645595f610d18f",
            "value": 1
          }
        },
        "25d62433854346f4a93c47d1ea07b914": {
          "model_module": "@jupyter-widgets/controls",
          "model_name": "HTMLModel",
          "model_module_version": "1.5.0",
          "state": {
            "_dom_classes": [],
            "_model_module": "@jupyter-widgets/controls",
            "_model_module_version": "1.5.0",
            "_model_name": "HTMLModel",
            "_view_count": null,
            "_view_module": "@jupyter-widgets/controls",
            "_view_module_version": "1.5.0",
            "_view_name": "HTMLView",
            "description": "",
            "description_tooltip": null,
            "layout": "IPY_MODEL_ba8f12e9ab4045c1b73124c9978a7397",
            "placeholder": "​",
            "style": "IPY_MODEL_8b329e76bb354b9cb210c1cc8a16eb67",
            "value": " 1/1 [04:34&lt;00:00, 274.57s/chunk of vectors]"
          }
        },
        "24bce6a711de49458b4d9a472dc8e2c9": {
          "model_module": "@jupyter-widgets/base",
          "model_name": "LayoutModel",
          "model_module_version": "1.2.0",
          "state": {
            "_model_module": "@jupyter-widgets/base",
            "_model_module_version": "1.2.0",
            "_model_name": "LayoutModel",
            "_view_count": null,
            "_view_module": "@jupyter-widgets/base",
            "_view_module_version": "1.2.0",
            "_view_name": "LayoutView",
            "align_content": null,
            "align_items": null,
            "align_self": null,
            "border": null,
            "bottom": null,
            "display": null,
            "flex": null,
            "flex_flow": null,
            "grid_area": null,
            "grid_auto_columns": null,
            "grid_auto_flow": null,
            "grid_auto_rows": null,
            "grid_column": null,
            "grid_gap": null,
            "grid_row": null,
            "grid_template_areas": null,
            "grid_template_columns": null,
            "grid_template_rows": null,
            "height": null,
            "justify_content": null,
            "justify_items": null,
            "left": null,
            "margin": null,
            "max_height": null,
            "max_width": null,
            "min_height": null,
            "min_width": null,
            "object_fit": null,
            "object_position": null,
            "order": null,
            "overflow": null,
            "overflow_x": null,
            "overflow_y": null,
            "padding": null,
            "right": null,
            "top": null,
            "visibility": null,
            "width": null
          }
        },
        "7e70a402d3384748a064730926f97b08": {
          "model_module": "@jupyter-widgets/base",
          "model_name": "LayoutModel",
          "model_module_version": "1.2.0",
          "state": {
            "_model_module": "@jupyter-widgets/base",
            "_model_module_version": "1.2.0",
            "_model_name": "LayoutModel",
            "_view_count": null,
            "_view_module": "@jupyter-widgets/base",
            "_view_module_version": "1.2.0",
            "_view_name": "LayoutView",
            "align_content": null,
            "align_items": null,
            "align_self": null,
            "border": null,
            "bottom": null,
            "display": null,
            "flex": null,
            "flex_flow": null,
            "grid_area": null,
            "grid_auto_columns": null,
            "grid_auto_flow": null,
            "grid_auto_rows": null,
            "grid_column": null,
            "grid_gap": null,
            "grid_row": null,
            "grid_template_areas": null,
            "grid_template_columns": null,
            "grid_template_rows": null,
            "height": null,
            "justify_content": null,
            "justify_items": null,
            "left": null,
            "margin": null,
            "max_height": null,
            "max_width": null,
            "min_height": null,
            "min_width": null,
            "object_fit": null,
            "object_position": null,
            "order": null,
            "overflow": null,
            "overflow_x": null,
            "overflow_y": null,
            "padding": null,
            "right": null,
            "top": null,
            "visibility": null,
            "width": null
          }
        },
        "7b3e7ed2514d4bd0a3847aa7b39d8da4": {
          "model_module": "@jupyter-widgets/controls",
          "model_name": "DescriptionStyleModel",
          "model_module_version": "1.5.0",
          "state": {
            "_model_module": "@jupyter-widgets/controls",
            "_model_module_version": "1.5.0",
            "_model_name": "DescriptionStyleModel",
            "_view_count": null,
            "_view_module": "@jupyter-widgets/base",
            "_view_module_version": "1.2.0",
            "_view_name": "StyleView",
            "description_width": ""
          }
        },
        "2f4ab102b340485e87bbcfeac1214489": {
          "model_module": "@jupyter-widgets/base",
          "model_name": "LayoutModel",
          "model_module_version": "1.2.0",
          "state": {
            "_model_module": "@jupyter-widgets/base",
            "_model_module_version": "1.2.0",
            "_model_name": "LayoutModel",
            "_view_count": null,
            "_view_module": "@jupyter-widgets/base",
            "_view_module_version": "1.2.0",
            "_view_name": "LayoutView",
            "align_content": null,
            "align_items": null,
            "align_self": null,
            "border": null,
            "bottom": null,
            "display": null,
            "flex": null,
            "flex_flow": null,
            "grid_area": null,
            "grid_auto_columns": null,
            "grid_auto_flow": null,
            "grid_auto_rows": null,
            "grid_column": null,
            "grid_gap": null,
            "grid_row": null,
            "grid_template_areas": null,
            "grid_template_columns": null,
            "grid_template_rows": null,
            "height": null,
            "justify_content": null,
            "justify_items": null,
            "left": null,
            "margin": null,
            "max_height": null,
            "max_width": null,
            "min_height": null,
            "min_width": null,
            "object_fit": null,
            "object_position": null,
            "order": null,
            "overflow": null,
            "overflow_x": null,
            "overflow_y": null,
            "padding": null,
            "right": null,
            "top": null,
            "visibility": null,
            "width": null
          }
        },
        "917e9246187f4319a1645595f610d18f": {
          "model_module": "@jupyter-widgets/controls",
          "model_name": "ProgressStyleModel",
          "model_module_version": "1.5.0",
          "state": {
            "_model_module": "@jupyter-widgets/controls",
            "_model_module_version": "1.5.0",
            "_model_name": "ProgressStyleModel",
            "_view_count": null,
            "_view_module": "@jupyter-widgets/base",
            "_view_module_version": "1.2.0",
            "_view_name": "StyleView",
            "bar_color": null,
            "description_width": ""
          }
        },
        "ba8f12e9ab4045c1b73124c9978a7397": {
          "model_module": "@jupyter-widgets/base",
          "model_name": "LayoutModel",
          "model_module_version": "1.2.0",
          "state": {
            "_model_module": "@jupyter-widgets/base",
            "_model_module_version": "1.2.0",
            "_model_name": "LayoutModel",
            "_view_count": null,
            "_view_module": "@jupyter-widgets/base",
            "_view_module_version": "1.2.0",
            "_view_name": "LayoutView",
            "align_content": null,
            "align_items": null,
            "align_self": null,
            "border": null,
            "bottom": null,
            "display": null,
            "flex": null,
            "flex_flow": null,
            "grid_area": null,
            "grid_auto_columns": null,
            "grid_auto_flow": null,
            "grid_auto_rows": null,
            "grid_column": null,
            "grid_gap": null,
            "grid_row": null,
            "grid_template_areas": null,
            "grid_template_columns": null,
            "grid_template_rows": null,
            "height": null,
            "justify_content": null,
            "justify_items": null,
            "left": null,
            "margin": null,
            "max_height": null,
            "max_width": null,
            "min_height": null,
            "min_width": null,
            "object_fit": null,
            "object_position": null,
            "order": null,
            "overflow": null,
            "overflow_x": null,
            "overflow_y": null,
            "padding": null,
            "right": null,
            "top": null,
            "visibility": null,
            "width": null
          }
        },
        "8b329e76bb354b9cb210c1cc8a16eb67": {
          "model_module": "@jupyter-widgets/controls",
          "model_name": "DescriptionStyleModel",
          "model_module_version": "1.5.0",
          "state": {
            "_model_module": "@jupyter-widgets/controls",
            "_model_module_version": "1.5.0",
            "_model_name": "DescriptionStyleModel",
            "_view_count": null,
            "_view_module": "@jupyter-widgets/base",
            "_view_module_version": "1.2.0",
            "_view_name": "StyleView",
            "description_width": ""
          }
        },
        "5ecd313f2ebb406394503e5cf5773efc": {
          "model_module": "@jupyter-widgets/controls",
          "model_name": "HBoxModel",
          "model_module_version": "1.5.0",
          "state": {
            "_dom_classes": [],
            "_model_module": "@jupyter-widgets/controls",
            "_model_module_version": "1.5.0",
            "_model_name": "HBoxModel",
            "_view_count": null,
            "_view_module": "@jupyter-widgets/controls",
            "_view_module_version": "1.5.0",
            "_view_name": "HBoxView",
            "box_style": "",
            "children": [
              "IPY_MODEL_7fbc403d8fe340a8a2c42940813e5123",
              "IPY_MODEL_13eaf85672db4017a7a72c449e06159a",
              "IPY_MODEL_fcd26f4e93b945fcbd56b417dafc5309"
            ],
            "layout": "IPY_MODEL_8dbc98626ef44f96a0a9ceb65b484386"
          }
        },
        "7fbc403d8fe340a8a2c42940813e5123": {
          "model_module": "@jupyter-widgets/controls",
          "model_name": "HTMLModel",
          "model_module_version": "1.5.0",
          "state": {
            "_dom_classes": [],
            "_model_module": "@jupyter-widgets/controls",
            "_model_module_version": "1.5.0",
            "_model_name": "HTMLModel",
            "_view_count": null,
            "_view_module": "@jupyter-widgets/controls",
            "_view_module_version": "1.5.0",
            "_view_name": "HTMLView",
            "description": "",
            "description_tooltip": null,
            "layout": "IPY_MODEL_0b29bce1aa3c44168538327a0366c58d",
            "placeholder": "​",
            "style": "IPY_MODEL_37d2e998c3d74d478bd175611e27947c",
            "value": "Batches: 100%"
          }
        },
        "13eaf85672db4017a7a72c449e06159a": {
          "model_module": "@jupyter-widgets/controls",
          "model_name": "FloatProgressModel",
          "model_module_version": "1.5.0",
          "state": {
            "_dom_classes": [],
            "_model_module": "@jupyter-widgets/controls",
            "_model_module_version": "1.5.0",
            "_model_name": "FloatProgressModel",
            "_view_count": null,
            "_view_module": "@jupyter-widgets/controls",
            "_view_module_version": "1.5.0",
            "_view_name": "ProgressView",
            "bar_style": "success",
            "description": "",
            "description_tooltip": null,
            "layout": "IPY_MODEL_b97a1c5d4282407daf7d4b9a8ab44b0b",
            "max": 94,
            "min": 0,
            "orientation": "horizontal",
            "style": "IPY_MODEL_ec0b046d2c4142d89b02789dd1f48373",
            "value": 94
          }
        },
        "fcd26f4e93b945fcbd56b417dafc5309": {
          "model_module": "@jupyter-widgets/controls",
          "model_name": "HTMLModel",
          "model_module_version": "1.5.0",
          "state": {
            "_dom_classes": [],
            "_model_module": "@jupyter-widgets/controls",
            "_model_module_version": "1.5.0",
            "_model_name": "HTMLModel",
            "_view_count": null,
            "_view_module": "@jupyter-widgets/controls",
            "_view_module_version": "1.5.0",
            "_view_name": "HTMLView",
            "description": "",
            "description_tooltip": null,
            "layout": "IPY_MODEL_576af5009dd141b691e230c201f98835",
            "placeholder": "​",
            "style": "IPY_MODEL_aa1062b43676454395ea3fbcdaab0253",
            "value": " 94/94 [04:29&lt;00:00,  1.17it/s]"
          }
        },
        "8dbc98626ef44f96a0a9ceb65b484386": {
          "model_module": "@jupyter-widgets/base",
          "model_name": "LayoutModel",
          "model_module_version": "1.2.0",
          "state": {
            "_model_module": "@jupyter-widgets/base",
            "_model_module_version": "1.2.0",
            "_model_name": "LayoutModel",
            "_view_count": null,
            "_view_module": "@jupyter-widgets/base",
            "_view_module_version": "1.2.0",
            "_view_name": "LayoutView",
            "align_content": null,
            "align_items": null,
            "align_self": null,
            "border": null,
            "bottom": null,
            "display": null,
            "flex": null,
            "flex_flow": null,
            "grid_area": null,
            "grid_auto_columns": null,
            "grid_auto_flow": null,
            "grid_auto_rows": null,
            "grid_column": null,
            "grid_gap": null,
            "grid_row": null,
            "grid_template_areas": null,
            "grid_template_columns": null,
            "grid_template_rows": null,
            "height": null,
            "justify_content": null,
            "justify_items": null,
            "left": null,
            "margin": null,
            "max_height": null,
            "max_width": null,
            "min_height": null,
            "min_width": null,
            "object_fit": null,
            "object_position": null,
            "order": null,
            "overflow": null,
            "overflow_x": null,
            "overflow_y": null,
            "padding": null,
            "right": null,
            "top": null,
            "visibility": null,
            "width": null
          }
        },
        "0b29bce1aa3c44168538327a0366c58d": {
          "model_module": "@jupyter-widgets/base",
          "model_name": "LayoutModel",
          "model_module_version": "1.2.0",
          "state": {
            "_model_module": "@jupyter-widgets/base",
            "_model_module_version": "1.2.0",
            "_model_name": "LayoutModel",
            "_view_count": null,
            "_view_module": "@jupyter-widgets/base",
            "_view_module_version": "1.2.0",
            "_view_name": "LayoutView",
            "align_content": null,
            "align_items": null,
            "align_self": null,
            "border": null,
            "bottom": null,
            "display": null,
            "flex": null,
            "flex_flow": null,
            "grid_area": null,
            "grid_auto_columns": null,
            "grid_auto_flow": null,
            "grid_auto_rows": null,
            "grid_column": null,
            "grid_gap": null,
            "grid_row": null,
            "grid_template_areas": null,
            "grid_template_columns": null,
            "grid_template_rows": null,
            "height": null,
            "justify_content": null,
            "justify_items": null,
            "left": null,
            "margin": null,
            "max_height": null,
            "max_width": null,
            "min_height": null,
            "min_width": null,
            "object_fit": null,
            "object_position": null,
            "order": null,
            "overflow": null,
            "overflow_x": null,
            "overflow_y": null,
            "padding": null,
            "right": null,
            "top": null,
            "visibility": null,
            "width": null
          }
        },
        "37d2e998c3d74d478bd175611e27947c": {
          "model_module": "@jupyter-widgets/controls",
          "model_name": "DescriptionStyleModel",
          "model_module_version": "1.5.0",
          "state": {
            "_model_module": "@jupyter-widgets/controls",
            "_model_module_version": "1.5.0",
            "_model_name": "DescriptionStyleModel",
            "_view_count": null,
            "_view_module": "@jupyter-widgets/base",
            "_view_module_version": "1.2.0",
            "_view_name": "StyleView",
            "description_width": ""
          }
        },
        "b97a1c5d4282407daf7d4b9a8ab44b0b": {
          "model_module": "@jupyter-widgets/base",
          "model_name": "LayoutModel",
          "model_module_version": "1.2.0",
          "state": {
            "_model_module": "@jupyter-widgets/base",
            "_model_module_version": "1.2.0",
            "_model_name": "LayoutModel",
            "_view_count": null,
            "_view_module": "@jupyter-widgets/base",
            "_view_module_version": "1.2.0",
            "_view_name": "LayoutView",
            "align_content": null,
            "align_items": null,
            "align_self": null,
            "border": null,
            "bottom": null,
            "display": null,
            "flex": null,
            "flex_flow": null,
            "grid_area": null,
            "grid_auto_columns": null,
            "grid_auto_flow": null,
            "grid_auto_rows": null,
            "grid_column": null,
            "grid_gap": null,
            "grid_row": null,
            "grid_template_areas": null,
            "grid_template_columns": null,
            "grid_template_rows": null,
            "height": null,
            "justify_content": null,
            "justify_items": null,
            "left": null,
            "margin": null,
            "max_height": null,
            "max_width": null,
            "min_height": null,
            "min_width": null,
            "object_fit": null,
            "object_position": null,
            "order": null,
            "overflow": null,
            "overflow_x": null,
            "overflow_y": null,
            "padding": null,
            "right": null,
            "top": null,
            "visibility": null,
            "width": null
          }
        },
        "ec0b046d2c4142d89b02789dd1f48373": {
          "model_module": "@jupyter-widgets/controls",
          "model_name": "ProgressStyleModel",
          "model_module_version": "1.5.0",
          "state": {
            "_model_module": "@jupyter-widgets/controls",
            "_model_module_version": "1.5.0",
            "_model_name": "ProgressStyleModel",
            "_view_count": null,
            "_view_module": "@jupyter-widgets/base",
            "_view_module_version": "1.2.0",
            "_view_name": "StyleView",
            "bar_color": null,
            "description_width": ""
          }
        },
        "576af5009dd141b691e230c201f98835": {
          "model_module": "@jupyter-widgets/base",
          "model_name": "LayoutModel",
          "model_module_version": "1.2.0",
          "state": {
            "_model_module": "@jupyter-widgets/base",
            "_model_module_version": "1.2.0",
            "_model_name": "LayoutModel",
            "_view_count": null,
            "_view_module": "@jupyter-widgets/base",
            "_view_module_version": "1.2.0",
            "_view_name": "LayoutView",
            "align_content": null,
            "align_items": null,
            "align_self": null,
            "border": null,
            "bottom": null,
            "display": null,
            "flex": null,
            "flex_flow": null,
            "grid_area": null,
            "grid_auto_columns": null,
            "grid_auto_flow": null,
            "grid_auto_rows": null,
            "grid_column": null,
            "grid_gap": null,
            "grid_row": null,
            "grid_template_areas": null,
            "grid_template_columns": null,
            "grid_template_rows": null,
            "height": null,
            "justify_content": null,
            "justify_items": null,
            "left": null,
            "margin": null,
            "max_height": null,
            "max_width": null,
            "min_height": null,
            "min_width": null,
            "object_fit": null,
            "object_position": null,
            "order": null,
            "overflow": null,
            "overflow_x": null,
            "overflow_y": null,
            "padding": null,
            "right": null,
            "top": null,
            "visibility": null,
            "width": null
          }
        },
        "aa1062b43676454395ea3fbcdaab0253": {
          "model_module": "@jupyter-widgets/controls",
          "model_name": "DescriptionStyleModel",
          "model_module_version": "1.5.0",
          "state": {
            "_model_module": "@jupyter-widgets/controls",
            "_model_module_version": "1.5.0",
            "_model_name": "DescriptionStyleModel",
            "_view_count": null,
            "_view_module": "@jupyter-widgets/base",
            "_view_module_version": "1.2.0",
            "_view_name": "StyleView",
            "description_width": ""
          }
        }
      }
    }
  },
  "nbformat": 4,
  "nbformat_minor": 5
}