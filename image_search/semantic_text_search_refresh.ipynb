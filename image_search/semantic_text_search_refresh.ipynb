{
 "cells": [
  {
   "cell_type": "markdown",
   "id": "a87700e2",
   "metadata": {},
   "source": [
    "<!--<badge>--><a href=\"https://colab.research.google.com/github/startakovsky/pinecone-examples-fork/blob/may-2022-semantic-text-search-refresh/semantic_text_search/semantic_text_search_refresh.ipynb\" target=\"_parent\"><img src=\"https://colab.research.google.com/assets/colab-badge.svg\" alt=\"Open In Colab\"/></a><!--</badge>-->"
   ]
  },
  {
   "cell_type": "markdown",
   "id": "df24e16b",
   "metadata": {},
   "source": [
    "# Semantic Search With Pinecone"
   ]
  },
  {
   "cell_type": "markdown",
   "id": "ba8253e2",
   "metadata": {},
   "source": [
    "## Background"
   ]
  },
  {
   "cell_type": "markdown",
   "id": "8010267d",
   "metadata": {},
   "source": [
    "### What is Semantic Search and how will we use it?\n",
    "\n",
    "_Semantic search_ is search where the _meaning_ of the search query is the focus, rather than using keyword lookups. Pretrained neural networks on large sets of text data have been shown to be effective at encoding the _meaning_ of a particular phrase, sentence, paragraph or long document into a data structure known as a [vector embedding](https://www.pinecone.io/learn/vector-embeddings/).\n",
    "\n",
    "In this example, we are going to demonstrate Pinecone's semantic search capabilities with an off-the-shelf, pretrained NLP model. In the process we'll learn a few things."
   ]
  },
  {
   "cell_type": "markdown",
   "id": "a228d497",
   "metadata": {},
   "source": [
    "### Learning Goals and Estimated Reading Time\n",
    "_By the end of this 10 minute demo, you will have:_\n",
    " 1. Learned about Pinecone's value for solving realtime semantic search requirements!\n",
    " 2. Stored and retrieved vectors from Pinecone your very-own Pinecone Vector Database.\n",
    " 3. Encoded news articles as 384-dimensional vectors using a pretrained, encoder-only, model (i.e. no model training necessary).\n",
    " 4. Queried Pinecone's Vector Database to find similar news articles to the query in question.\n",
    " \n",
    "Executing all the code in the notebook may take a few hours, but once all data is encoded results of queries to pinecone are processed on the order of tens of milliseconds."
   ]
  },
  {
   "cell_type": "markdown",
   "id": "1a99b115",
   "metadata": {},
   "source": [
    "## Setup: Prerequisites and Data Preparation"
   ]
  },
  {
   "cell_type": "markdown",
   "id": "b60687f1",
   "metadata": {},
   "source": [
    "### Python 3.7+\n",
    "\n",
    "This code has been tested with Python 3.7. It is recommended to run this code in a virtual environment or Google Colab."
   ]
  },
  {
   "cell_type": "markdown",
   "id": "5609277d",
   "metadata": {},
   "source": [
    "### Acquiring your Pinecone API Key\n",
    "\n",
    "A Pinecone API key is required. You can obtain one for free on our [our website](https://app.pinecone.io/). Either add `PINECONE_EXAMPLE_API_KEY` to your list of environmental variables, or manually enter it after running the below cell (a prompt will pop up requesting the API key, storing the result within this kernel (session))."
   ]
  },
  {
   "cell_type": "markdown",
   "id": "d0ffda0b",
   "metadata": {},
   "source": [
    "### Helper Module"
   ]
  },
  {
   "cell_type": "code",
   "execution_count": 1,
   "id": "96cb344b",
   "metadata": {},
   "outputs": [
    {
     "data": {
      "text/markdown": [
       "Extracting API Key from environmental variable `PINECONE_EXAMPLE_API_KEY`..."
      ],
      "text/plain": [
       "<IPython.core.display.Markdown object>"
      ]
     },
     "metadata": {},
     "output_type": "display_data"
    },
    {
     "data": {
      "text/markdown": [
       "Pinecone API Key available at `h.pinecone_api_key`"
      ],
      "text/plain": [
       "<IPython.core.display.Markdown object>"
      ]
     },
     "metadata": {},
     "output_type": "display_data"
    }
   ],
   "source": [
    "# There is a helper module required for this notebook to run.\n",
    "# When not present with this notebook, it will be streamed in from Pinecone's Example Repository.\n",
    "# You can find the module at https://github.com/pinecone-io/examples/tree/master/semantic_text_search\n",
    "\n",
    "import os\n",
    "import httpimport\n",
    "\n",
    "if os.path.isfile('helper.py'):\n",
    "    import helper as h\n",
    "else:\n",
    "    print('importing `helper.py` from https://github.com/pinecone-io')\n",
    "    with httpimport.github_repo(\n",
    "        username='startakovsky', \n",
    "        repo='pinecone-examples-fork',\n",
    "        module=['semantic_text_search'],\n",
    "        branch='may-2022-semantic-text-search-refresh'):\n",
    "        from semantic_text_search import helper as h"
   ]
  },
  {
   "cell_type": "markdown",
   "id": "7edfb9e5",
   "metadata": {},
   "source": [
    "### Installing and Importing Prerequisite Libraries:\n",
    "Python libraries [pinecone-client](https://pypi.org/project/pinecone-client/), [sentence_transformers](https://pypi.org/project/sentence-transformers/), [datasets](https://pypi.org/project/datasets/), [pandas](https://pypi.org/project/pandas/), and [tqdm](https://pypi.org/project/tqdm/) are required for this notebook."
   ]
  },
  {
   "cell_type": "markdown",
   "id": "3a12400a",
   "metadata": {},
   "source": [
    "#### Installing via `pip`\n",
    "The next line is equivalent to `pip install pinecone-client sentence-transformers datasets pandas tqdm`. Note that _sys.executable_ is a way of ensuring it's the version of pip associated with this Jupyter Notebook's Python kernel."
   ]
  },
  {
   "cell_type": "code",
   "execution_count": 2,
   "id": "8a1fa96d",
   "metadata": {},
   "outputs": [],
   "source": [
    "!pip install pinecone-client sentence-transformers pandas tqdm datasets -qU"
   ]
  },
  {
   "cell_type": "markdown",
   "id": "9441c1df",
   "metadata": {},
   "source": [
    "#### Importing and Defining Constants"
   ]
  },
  {
   "cell_type": "code",
   "execution_count": 3,
   "id": "c7281780",
   "metadata": {},
   "outputs": [],
   "source": [
    "import collections\n",
    "\n",
    "import tqdm\n",
    "import pinecone\n",
    "import pandas as pd\n",
    "from sentence_transformers import SentenceTransformer\n",
    "from datasets import load_dataset\n",
    "\n",
    "INDEX_NAME, INDEX_DIMENSION = 'semantic-text-search', 384\n",
    "MODEL_NAME = 'sentence-transformers/msmarco-MiniLM-L6-cos-v5'"
   ]
  },
  {
   "cell_type": "markdown",
   "id": "0cfefda6",
   "metadata": {},
   "source": [
    "### Downloading and Processing Data"
   ]
  },
  {
   "cell_type": "markdown",
   "id": "0ddb4ccc",
   "metadata": {},
   "source": [
    "#### Downloading data\n",
    "To demonstrate semantic search using Pinecone, we will be using [a dataset](https://huggingface.co/datasets/cc_news) consisting of over 700,000 English language news articles. We will be downloading this dataset using the `datasets` library in the next cell."
   ]
  },
  {
   "cell_type": "code",
   "execution_count": 4,
   "id": "f325264a",
   "metadata": {
    "scrolled": true
   },
   "outputs": [
    {
     "name": "stderr",
     "output_type": "stream",
     "text": [
      "Reusing dataset cc_news (/Users/steven/.cache/huggingface/datasets/cc_news/plain_text/1.0.0/ae469e556251e6e7e20a789f93803c7de19d0c4311b6854ab072fecb4e401bd6)\n"
     ]
    },
    {
     "data": {
      "application/vnd.jupyter.widget-view+json": {
       "model_id": "f3f0cba36c6e40d79ca1388d864a2dbc",
       "version_major": 2,
       "version_minor": 0
      },
      "text/plain": [
       "  0%|          | 0/1 [00:00<?, ?it/s]"
      ]
     },
     "metadata": {},
     "output_type": "display_data"
    }
   ],
   "source": [
    "dataset = load_dataset(\"cc_news\")"
   ]
  },
  {
   "cell_type": "markdown",
   "id": "35f916fa",
   "metadata": {},
   "source": [
    "#### The preprocessing step is self-explanatory and defined in the helper module."
   ]
  },
  {
   "cell_type": "code",
   "execution_count": 5,
   "id": "d9eb1f36",
   "metadata": {},
   "outputs": [],
   "source": [
    "df = h.get_processed_df(dataset['train'].to_pandas())"
   ]
  },
  {
   "cell_type": "markdown",
   "id": "4dc22766",
   "metadata": {},
   "source": [
    "#### Sample row from dataframe\n",
    "\n",
    "Note we use an abridged version of the original text in the _text\\_to\\_encode_ field."
   ]
  },
  {
   "cell_type": "code",
   "execution_count": 6,
   "id": "fff4d03e",
   "metadata": {
    "scrolled": false
   },
   "outputs": [
    {
     "data": {
      "text/html": [
       "<div>\n",
       "<style scoped>\n",
       "    .dataframe tbody tr th:only-of-type {\n",
       "        vertical-align: middle;\n",
       "    }\n",
       "\n",
       "    .dataframe tbody tr th {\n",
       "        vertical-align: top;\n",
       "    }\n",
       "\n",
       "    .dataframe thead th {\n",
       "        text-align: right;\n",
       "    }\n",
       "</style>\n",
       "<table border=\"1\" class=\"dataframe\">\n",
       "  <thead>\n",
       "    <tr style=\"text-align: right;\">\n",
       "      <th></th>\n",
       "      <th>356155</th>\n",
       "    </tr>\n",
       "  </thead>\n",
       "  <tbody>\n",
       "    <tr>\n",
       "      <th>title</th>\n",
       "      <td>Statue of Liberty evacuated as climber refuses to come down</td>\n",
       "    </tr>\n",
       "    <tr>\n",
       "      <th>text</th>\n",
       "      <td>Liberty Island has been evacuated because of a climber at the Statue of Liberty.\\nA climber on the Statue of Liberty in New York. Pix 11 livestream screen capture from Facebook.\\nNEW YORK — Liberty Island has been evacuated because of a climber at the Statue of Liberty.\\nA person climbed the statue’s base on the Fourth of July shortly after several people were arrested after hanging a banner from the statue’s pedestal calling for abolishing Immigration and Customs Enforcement.\\nNews helicopter video showed the climber sitting Wednesday by the bottom of the statue’s robes, about 100 feet (30 meters) aboveground. Police nearby tried to persuade the climber to descend.\\nEarlier, National Park Service spokesman Jerry Willis said at least six people were taken into custody for the banner, which read “Abolish I.C.E.,” referring to part of the Department of Homeland Security.\\nWillis says federal regulations prohibit hanging banners from the monument.\\nBanner organizing group Rise and Resist says the climber isn’t connected to its demonstration.</td>\n",
       "    </tr>\n",
       "    <tr>\n",
       "      <th>domain</th>\n",
       "      <td>www.reviewjournal.com</td>\n",
       "    </tr>\n",
       "    <tr>\n",
       "      <th>date</th>\n",
       "      <td>2018-07-04 20:43:12</td>\n",
       "    </tr>\n",
       "    <tr>\n",
       "      <th>description</th>\n",
       "      <td>Liberty Island has been evacuated because of a climber at the Statue of Liberty.</td>\n",
       "    </tr>\n",
       "    <tr>\n",
       "      <th>url</th>\n",
       "      <td>https://www.reviewjournal.com/news/nation-and-world/statue-of-liberty-evacuated-as-climber-refuses-to-come-down/</td>\n",
       "    </tr>\n",
       "    <tr>\n",
       "      <th>image_url</th>\n",
       "      <td>https://www.reviewjournal.com/wp-content/uploads/2018/07/10783746_web1_dewfdew.jpg</td>\n",
       "    </tr>\n",
       "    <tr>\n",
       "      <th>text_to_encode</th>\n",
       "      <td>Statue of Liberty evacuated as climber refuses to come down Liberty Island has been evacuated because of a climber at the Statue of Liberty. A climber on the Statue of Liberty in New York. Pix 11 livestream screen capture from Facebook. NEW YORK — Liberty Island has been evacuated because of a climber at the Statue of Liberty. A person climbed the statue’s base on the Fourth of July shortly after several people were arrested after hanging a banner from the statue’s pedestal calling for abolishing Immigration and Customs Enforcement.</td>\n",
       "    </tr>\n",
       "    <tr>\n",
       "      <th>year</th>\n",
       "      <td>2018</td>\n",
       "    </tr>\n",
       "    <tr>\n",
       "      <th>month</th>\n",
       "      <td>7</td>\n",
       "    </tr>\n",
       "    <tr>\n",
       "      <th>processed_domain</th>\n",
       "      <td>other</td>\n",
       "    </tr>\n",
       "  </tbody>\n",
       "</table>\n",
       "</div>"
      ],
      "text/plain": [
       "                                                                                                                                                                                                                                                                                                                                                                                                                                                                                                                                                                                                                                                                                                                                                                                                                                                                                                                                                                                                                                                                                                          356155\n",
       "title                                                                                                                                                                                                                                                                                                                                                                                                                                                                                                                                                                                                                                                                                                                                                                                                                                                                                                                                                                                                                                                Statue of Liberty evacuated as climber refuses to come down\n",
       "text              Liberty Island has been evacuated because of a climber at the Statue of Liberty.\\nA climber on the Statue of Liberty in New York. Pix 11 livestream screen capture from Facebook.\\nNEW YORK — Liberty Island has been evacuated because of a climber at the Statue of Liberty.\\nA person climbed the statue’s base on the Fourth of July shortly after several people were arrested after hanging a banner from the statue’s pedestal calling for abolishing Immigration and Customs Enforcement.\\nNews helicopter video showed the climber sitting Wednesday by the bottom of the statue’s robes, about 100 feet (30 meters) aboveground. Police nearby tried to persuade the climber to descend.\\nEarlier, National Park Service spokesman Jerry Willis said at least six people were taken into custody for the banner, which read “Abolish I.C.E.,” referring to part of the Department of Homeland Security.\\nWillis says federal regulations prohibit hanging banners from the monument.\\nBanner organizing group Rise and Resist says the climber isn’t connected to its demonstration.\n",
       "domain                                                                                                                                                                                                                                                                                                                                                                                                                                                                                                                                                                                                                                                                                                                                                                                                                                                                                                                                                                                                                                                                                     www.reviewjournal.com\n",
       "date                                                                                                                                                                                                                                                                                                                                                                                                                                                                                                                                                                                                                                                                                                                                                                                                                                                                                                                                                                                                                                                                                         2018-07-04 20:43:12\n",
       "description                                                                                                                                                                                                                                                                                                                                                                                                                                                                                                                                                                                                                                                                                                                                                                                                                                                                                                                                                                                                                     Liberty Island has been evacuated because of a climber at the Statue of Liberty.\n",
       "url                                                                                                                                                                                                                                                                                                                                                                                                                                                                                                                                                                                                                                                                                                                                                                                                                                                                                                                                                                                             https://www.reviewjournal.com/news/nation-and-world/statue-of-liberty-evacuated-as-climber-refuses-to-come-down/\n",
       "image_url                                                                                                                                                                                                                                                                                                                                                                                                                                                                                                                                                                                                                                                                                                                                                                                                                                                                                                                                                                                                                     https://www.reviewjournal.com/wp-content/uploads/2018/07/10783746_web1_dewfdew.jpg\n",
       "text_to_encode                                                                                                                                                                                                                                                                                                                                                                                                                                                                                                                                        Statue of Liberty evacuated as climber refuses to come down Liberty Island has been evacuated because of a climber at the Statue of Liberty. A climber on the Statue of Liberty in New York. Pix 11 livestream screen capture from Facebook. NEW YORK — Liberty Island has been evacuated because of a climber at the Statue of Liberty. A person climbed the statue’s base on the Fourth of July shortly after several people were arrested after hanging a banner from the statue’s pedestal calling for abolishing Immigration and Customs Enforcement.\n",
       "year                                                                                                                                                                                                                                                                                                                                                                                                                                                                                                                                                                                                                                                                                                                                                                                                                                                                                                                                                                                                                                                                                                        2018\n",
       "month                                                                                                                                                                                                                                                                                                                                                                                                                                                                                                                                                                                                                                                                                                                                                                                                                                                                                                                                                                                                                                                                                                          7\n",
       "processed_domain                                                                                                                                                                                                                                                                                                                                                                                                                                                                                                                                                                                                                                                                                                                                                                                                                                                                                                                                                                                                                                                                                           other"
      ]
     },
     "execution_count": 6,
     "metadata": {},
     "output_type": "execute_result"
    }
   ],
   "source": [
    "pd.DataFrame(df.iloc[356155])"
   ]
  },
  {
   "cell_type": "markdown",
   "id": "3e57c70f",
   "metadata": {},
   "source": [
    "### Creating your Pinecone Index\n",
    "The process for creating a Pinecone Index requires your Pinecone API key, the name of your index, and the number of dimensions of each vector. As we will see below, the model we are using maps each piece of text to a 384-dimensional vector."
   ]
  },
  {
   "cell_type": "code",
   "execution_count": 7,
   "id": "7d03750c",
   "metadata": {},
   "outputs": [],
   "source": [
    "pinecone.init(api_key=h.pinecone_api_key, environment='us-west1-gcp')\n",
    "pinecone.create_index(name=INDEX_NAME, dimension=INDEX_DIMENSION)\n",
    "index = pinecone.Index(index_name=INDEX_NAME)"
   ]
  },
  {
   "cell_type": "markdown",
   "id": "546f0219",
   "metadata": {},
   "source": [
    "## Generate embeddings and send them to your Pinecone Index\n",
    "This will all be done in batches. We will compute embeddings in batch, followed by taking each batch and sending it to Pinecone, also in batches."
   ]
  },
  {
   "cell_type": "markdown",
   "id": "9ecbb5e8",
   "metadata": {},
   "source": [
    "### Loading a Pretrained Encoder model.\n",
    "We will generate embeddings by using [this Sentence Transformers model](https://huggingface.co/sentence-transformers/msmarco-MiniLM-L6-cos-v5). It is one of hundreds encoder models available. Downloads happen automatically with SentenceTransformer, and may take up to a minute the first time. After this first import, the model is cached and available on a local machine."
   ]
  },
  {
   "cell_type": "code",
   "execution_count": 8,
   "id": "b4ed4a8c",
   "metadata": {},
   "outputs": [
    {
     "data": {
      "text/markdown": [
       "Loading model from _Sentence Transformers_: `sentence-transformers/msmarco-MiniLM-L6-cos-v5` from Sentence Transformers..."
      ],
      "text/plain": [
       "<IPython.core.display.Markdown object>"
      ]
     },
     "metadata": {},
     "output_type": "display_data"
    },
    {
     "data": {
      "text/markdown": [
       "Model loaded."
      ],
      "text/plain": [
       "<IPython.core.display.Markdown object>"
      ]
     },
     "metadata": {},
     "output_type": "display_data"
    }
   ],
   "source": [
    "h.printmd(f'Loading model from _Sentence Transformers_: `{MODEL_NAME}` from Sentence Transformers...')\n",
    "model = SentenceTransformer(MODEL_NAME)\n",
    "h.printmd('Model loaded.')"
   ]
  },
  {
   "cell_type": "markdown",
   "id": "fd4d4005",
   "metadata": {},
   "source": [
    "### MSMARCO model v5 and Embeddings\n",
    "\n",
    "In this example, we created an index with 384 dimensions and the [cosine similarity score](https://en.wikipedia.org/wiki/Cosine_similarity). This calculation is trivial when comparing two vectors, but very difficult when needing to compare a query vector against millions or billions of vectors and determine those most similar with the query vector."
   ]
  },
  {
   "cell_type": "markdown",
   "id": "25a13a56",
   "metadata": {},
   "source": [
    "#### On Embeddings\n",
    "\n",
    "This model produces vectors from text, each a sequence of 384 floats. So, when a piece of text such as \"A quick fox jumped around\" gets encoded into a vector embedding, the result is a sequence of floats of length 384. The same is true for a long news article and a single word. "
   ]
  },
  {
   "cell_type": "markdown",
   "id": "bb16d277",
   "metadata": {},
   "source": [
    "#### On Comparing Embeddings aka _how_ Semantic Search works\n",
    "\n",
    "Two 15-dimensional text embeddings might look like something like: \n",
    " - _\\[-0.02, 0.06, 0.0, 0.01, 0.08, -0.03, 0.01, 0.02, 0.01, 0.02, -0.07, -0.11, -0.01, 0.08, -0.04\\]_\n",
    " - _\\[-0.04, -0.09, 0.04, -0.1, -0.05, -0.01, -0.06, -0.04, -0.02, -0.04, -0.04, 0.07, 0.03, 0.02, 0.03\\]_\n",
    " \n",
    "In order to determine how [_similar_](https://towardsdatascience.com/importance-of-distance-metrics-in-machine-learning-modelling-e51395ffe60d) they are, it is a simple formula that takes a very short time to compute. Similarity scores are, in general, an excellent proxy for semantic similarity. So a natural question one might ask is to compare one vector to a handful of others and select the most similar."
   ]
  },
  {
   "cell_type": "markdown",
   "id": "3d71e442",
   "metadata": {},
   "source": [
    "### What is Pinecone for?\n",
    "There is often a technical requirement to compare one vector to tens or hundreds of millions or more vectors, to do so with low latency (less than 50ms) and a high throughput. Pinecone solves this problem with its managed vector database service, and we will demonstrate this below."
   ]
  },
  {
   "cell_type": "markdown",
   "id": "46933021",
   "metadata": {},
   "source": [
    "### Components of a Pinecone vector embedding\n",
    "\n",
    "There are three components to every Pinecone vector embedding:\n",
    " - a vector ID\n",
    " - a sequence of floats of a user-defined, fixed dimension\n",
    " - vector metadata (a key-value store)\n",
    "\n",
    "### Prepare vector embeddings for upload\n",
    "\n",
    "We will encode the news articles for upload to Pinecone. This may take a while depending on your machine. If on a recent MacBookPro or Google Colab, this may take up to one hour, sometimes longer. We will use the index of the pandas dataframe for the vector ID, the pretrained model to generate the sequence of 384 floats, and the year, month and article source for details in the metadata.\n",
    "\n",
    "#### Prepare metadata\n",
    "\n",
    "The function below creates metadata from a single row of the dataframe. This is going to be important further down this notebook for additional filter requirements we will may want to employ in our queries."
   ]
  },
  {
   "cell_type": "code",
   "execution_count": 9,
   "id": "330d389c",
   "metadata": {},
   "outputs": [],
   "source": [
    "def get_vector_metadata_from_dataframe_row(df_row):\n",
    "    \"\"\"Return vector metadata.\"\"\"\n",
    "    vector_metadata = {\n",
    "        'year': df_row['year'],\n",
    "        'month': df_row['month'],\n",
    "        'source': df_row['processed_domain']\n",
    "    }\n",
    "    return vector_metadata"
   ]
  },
  {
   "cell_type": "markdown",
   "id": "0c1e0478",
   "metadata": {},
   "source": [
    "#### Prepare all vector data for upload\n",
    "\n",
    "The function below will take a portion of the dataframe and create the full vector data as Pinecone expects it for [upsert](https://www.pinecone.io/docs/insert-data/)."
   ]
  },
  {
   "cell_type": "code",
   "execution_count": 10,
   "id": "40c3862c",
   "metadata": {},
   "outputs": [],
   "source": [
    "def get_vectors_to_upload_to_pinecone(df_chunk, model):\n",
    "    \"\"\"Return list of tuples like (vector_id, vector_values, vector_metadata).\"\"\"\n",
    "    # create embeddings\n",
    "    # pool = model.start_multi_process_pool()\n",
    "    # vector_values = model.encode_multi_process(df_chunk['text_to_encode'], pool).tolist()\n",
    "    # model.stop_multi_process_pool(pool)\n",
    "    vector_values = model.encode(df_chunk['text_to_encode'], show_progress_bar=True).tolist()\n",
    "    # create vector ids and metadata\n",
    "    vector_ids = df_chunk.index.tolist()\n",
    "    vector_metadata = df_chunk.apply(get_vector_metadata_from_dataframe_row,axis=1).tolist()\n",
    "    return list(zip(vector_ids, vector_values, vector_metadata))"
   ]
  },
  {
   "cell_type": "markdown",
   "id": "040cc6d7",
   "metadata": {},
   "source": [
    "### Upload data to Pinecone in asynchronous batches\n",
    "\n",
    "The function below iterates through the dataframe in chunks, and for each of those chunks, will upload asynchronously in sub-chunks to your Pinecone Index."
   ]
  },
  {
   "cell_type": "code",
   "execution_count": 11,
   "id": "256e593c",
   "metadata": {},
   "outputs": [],
   "source": [
    "def upload_dataframe_to_pinecone_in_chunks(\n",
    "    dataframe, \n",
    "    pinecone_index, \n",
    "    model, \n",
    "    chunk_size=20000, \n",
    "    upsert_size=500):\n",
    "    \"\"\"Encode dataframe column `text_to_encode` to dense vector and upsert to Pinecone.\"\"\"\n",
    "    tqdm_kwargs = h.get_tqdm_kwargs(dataframe, chunk_size)\n",
    "    async_results = collections.defaultdict(list)\n",
    "    for df_chunk in tqdm.notebook.tqdm(h.chunks(dataframe, chunk_size), **tqdm_kwargs):\n",
    "        vectors = get_vectors_to_upload_to_pinecone(df_chunk, model)\n",
    "        # upload to Pinecone in batches of `upsert_size`\n",
    "        for vectors_chunk in h.chunks(vectors, upsert_size):\n",
    "            start_index_chunk = df_chunk.index[0]\n",
    "            async_result = pinecone_index.upsert(vectors_chunk, async_req=True)\n",
    "            async_results[start_index_chunk].append(async_result)\n",
    "        # wait for results\n",
    "        _ = [async_result.get() for async_result in async_results[start_index_chunk]]\n",
    "        is_all_successful = all(map(lambda x: x.successful(), async_results[start_index_chunk]))\n",
    "        # report chunk upload status\n",
    "        print(\n",
    "        f'All upserts in chunk successful with index starting with {start_index_chunk:>7}: '\n",
    "        f'{is_all_successful}. Vectors uploaded: {len(vectors):>3}.'\n",
    "        )\n",
    "    return async_results"
   ]
  },
  {
   "cell_type": "markdown",
   "id": "0171dc2d",
   "metadata": {},
   "source": [
    "#### Asynchronous Upload\n",
    "Computing the embeddings may several hours depending on hardware capabilities. The Pinecone API responds right away with its [async](https://www.pinecone.io/docs/insert-data/#sending-upserts-in-parallel) requests. "
   ]
  },
  {
   "cell_type": "code",
   "execution_count": 12,
   "id": "5ba75643",
   "metadata": {},
   "outputs": [],
   "source": [
    "async_results = upload_dataframe_to_pinecone_in_chunks(df, index, model)"
   ]
  },
  {
   "cell_type": "markdown",
   "id": "0eddac13",
   "metadata": {},
   "source": [
    "### Visualize the status of your upserts in the Pinecone Console\n",
    "\n",
    "<img src='https://raw.githubusercontent.com/startakovsky/pinecone-examples-fork/may-2022-semantic-text-search-refresh/semantic_text_search/pinecone_console.png'>"
   ]
  },
  {
   "cell_type": "markdown",
   "id": "d2f6de60",
   "metadata": {},
   "source": [
    "## Querying Pinecone\n",
    "\n",
    "Now that all the embeddings of the texts are on Pinecone's database, it's time to demonstrate Pinecone's lightning fast semantic search query capabilities."
   ]
  },
  {
   "cell_type": "markdown",
   "id": "a8e5033f",
   "metadata": {},
   "source": [
    "### Pinecone Example Usage\n",
    "\n",
    "In the below example we query Pinecone's API with an embedding of a query term to return the vector embeddings that have the highest similarity score. Pinecone effeciently estimates which of the uploaded vector embeddings have the highest similarity when paired with the query term's embedding, and the database will scale to billions of embeddings maintaining low-latency and high throughput. In this example we have upserted over 700,000 embeddings. Our [starter plan](https://www.pinecone.io/pricing/) supports up to one million. "
   ]
  },
  {
   "cell_type": "markdown",
   "id": "d6c62f6d",
   "metadata": {},
   "source": [
    "#### Example: Pinecone API Request and Response\n",
    "\n",
    "Let's find articles with a similar semantic meaning to the `query` variable."
   ]
  },
  {
   "cell_type": "code",
   "execution_count": 13,
   "id": "cf9ff99a",
   "metadata": {},
   "outputs": [
    {
     "data": {
      "text/markdown": [
       "#### A sample response from Pinecone \n",
       " ==============\n",
       " \n",
       " ```python\n",
       "{'matches': [],\n",
       " 'namespace': '',\n",
       " 'results': [{'matches': [{'id': '394472',\n",
       "                           'metadata': {'month': 2.0,\n",
       "                                        'source': 'other',\n",
       "                                        'year': 2018.0},\n",
       "                           'score': 0.548593819,\n",
       "                           'values': []},\n",
       "                          {'id': '614986',\n",
       "                           'metadata': {'month': -1.0,\n",
       "                                        'source': 'other',\n",
       "                                        'year': -1.0},\n",
       "                           'score': 0.534811556,\n",
       "                           'values': []},\n",
       "                          {'id': '508355',\n",
       "                           'metadata': {'month': 2.0,\n",
       "                                        'source': 'other',\n",
       "                                        'year': 2017.0},\n",
       "                           'score': 0.506147265,\n",
       "                           'values': []}],\n",
       "              'namespace': ''}]}\n",
       "```"
      ],
      "text/plain": [
       "<IPython.core.display.Markdown object>"
      ]
     },
     "metadata": {},
     "output_type": "display_data"
    }
   ],
   "source": [
    "query = \"Is too much Co2 bad for the Ocean?\"\n",
    "vector_embedding = model.encode(query).tolist()\n",
    "response = index.query([vector_embedding], top_k=3, include_metadata=True)\n",
    "h.printmd(f\"#### A sample response from Pinecone \\n ==============\\n \\n ```python\\n{response}\\n```\")"
   ]
  },
  {
   "cell_type": "markdown",
   "id": "1bb9be70",
   "metadata": {},
   "source": [
    "#### Enriched Response\n",
    "To show which questions we retreived, the above response needs to be enriched using the original dataset."
   ]
  },
  {
   "cell_type": "code",
   "execution_count": 14,
   "id": "0325ed51",
   "metadata": {},
   "outputs": [
    {
     "data": {
      "text/html": [
       "<style type=\"text/css\">\n",
       "</style>\n",
       "<table id=\"T_cc1b7\">\n",
       "  <thead>\n",
       "    <tr>\n",
       "      <th class=\"blank level0\" >&nbsp;</th>\n",
       "      <th id=\"T_cc1b7_level0_col0\" class=\"col_heading level0 col0\" >title</th>\n",
       "      <th id=\"T_cc1b7_level0_col1\" class=\"col_heading level0 col1\" >score</th>\n",
       "      <th id=\"T_cc1b7_level0_col2\" class=\"col_heading level0 col2\" >domain</th>\n",
       "      <th id=\"T_cc1b7_level0_col3\" class=\"col_heading level0 col3\" >date</th>\n",
       "      <th id=\"T_cc1b7_level0_col4\" class=\"col_heading level0 col4\" >description</th>\n",
       "      <th id=\"T_cc1b7_level0_col5\" class=\"col_heading level0 col5\" >url</th>\n",
       "      <th id=\"T_cc1b7_level0_col6\" class=\"col_heading level0 col6\" >text_to_encode</th>\n",
       "    </tr>\n",
       "    <tr>\n",
       "      <th class=\"index_name level0\" >vector_id</th>\n",
       "      <th class=\"blank col0\" >&nbsp;</th>\n",
       "      <th class=\"blank col1\" >&nbsp;</th>\n",
       "      <th class=\"blank col2\" >&nbsp;</th>\n",
       "      <th class=\"blank col3\" >&nbsp;</th>\n",
       "      <th class=\"blank col4\" >&nbsp;</th>\n",
       "      <th class=\"blank col5\" >&nbsp;</th>\n",
       "      <th class=\"blank col6\" >&nbsp;</th>\n",
       "    </tr>\n",
       "  </thead>\n",
       "  <tbody>\n",
       "    <tr>\n",
       "      <th id=\"T_cc1b7_level0_row0\" class=\"row_heading level0 row0\" >394472</th>\n",
       "      <td id=\"T_cc1b7_row0_col0\" class=\"data row0 col0\" >Coastal Water Absorbing More Carbon Dioxide</td>\n",
       "      <td id=\"T_cc1b7_row0_col1\" class=\"data row0 col1\" >0.55</td>\n",
       "      <td id=\"T_cc1b7_row0_col2\" class=\"data row0 col2\" >www.eurasiareview.com</td>\n",
       "      <td id=\"T_cc1b7_row0_col3\" class=\"data row0 col3\" >2018-02-03 04:53:18</td>\n",
       "      <td id=\"T_cc1b7_row0_col4\" class=\"data row0 col4\" ></td>\n",
       "      <td id=\"T_cc1b7_row0_col5\" class=\"data row0 col5\" ><a target=\"_blank\" href=\"http://www.eurasiareview.com/03022018-coastal-water-absorbing-more-carbon-dioxide/\">link</a></td>\n",
       "      <td id=\"T_cc1b7_row0_col6\" class=\"data row0 col6\" >Coastal Water Absorbing More Carbon Dioxide By Eurasia Review\n",
       "As more carbon dioxide enters the atmosphere, the global ocean soaks up much of the excess, storing roughly 30 percent of the carbon dioxide emissions coming from human activities. In this sense, the ocean has acted as a buffer to slow down the greenhouse gas accumulation in the atmosphere and, thus, global warming. However, this process also increases the acidity of seawater and can affect the health of marine organisms and the ocean ecosystem. New research by University of Delaware oceanographer Wei-Jun Cai and colleagues at Université Libre de Bruxelles, Texas A&M University-Corpus Christi, University of Hawaii at Manoa and ETH Zurich, now reveals that the water over the continental shelves is shouldering a larger portion of the load, taking up more and more of this atmospheric carbon dioxide. The study findings, published in Nature Communications on Wednesday, Jan.</td>\n",
       "    </tr>\n",
       "    <tr>\n",
       "      <th id=\"T_cc1b7_level0_row1\" class=\"row_heading level0 row1\" >614986</th>\n",
       "      <td id=\"T_cc1b7_row1_col0\" class=\"data row1 col0\" >Some marine creatures may be more resilient to harsher ocean conditions than expected</td>\n",
       "      <td id=\"T_cc1b7_row1_col1\" class=\"data row1 col1\" >0.53</td>\n",
       "      <td id=\"T_cc1b7_row1_col2\" class=\"data row1 col2\" >phys.org</td>\n",
       "      <td id=\"T_cc1b7_row1_col3\" class=\"data row1 col3\" >NaT</td>\n",
       "      <td id=\"T_cc1b7_row1_col4\" class=\"data row1 col4\" ></td>\n",
       "      <td id=\"T_cc1b7_row1_col5\" class=\"data row1 col5\" ><a target=\"_blank\" href=\"https://phys.org/news/2017-02-marine-creatures-resilient-harsher-ocean.html\">link</a></td>\n",
       "      <td id=\"T_cc1b7_row1_col6\" class=\"data row1 col6\" >Some marine creatures may be more resilient to harsher ocean conditions than expected Credit: American Chemical Society As the world continually emits carbon dioxide into the atmosphere, the oceans are taking a hit, absorbing some of it and growing more acidic. Among other effects, scientists have found that coral reefs and oyster hatcheries are deteriorating as a result. However, scientists studying a type of sea snail report a bit of bright news in the ACS journal Environmental Science & Technology: The animal can adapt by rejiggering its shell-making process and other functions.</td>\n",
       "    </tr>\n",
       "    <tr>\n",
       "      <th id=\"T_cc1b7_level0_row2\" class=\"row_heading level0 row2\" >508355</th>\n",
       "      <td id=\"T_cc1b7_row2_col0\" class=\"data row2 col0\" >Some marine creatures may be more resilient to harsher ocean conditions than expected</td>\n",
       "      <td id=\"T_cc1b7_row2_col1\" class=\"data row2 col1\" >0.51</td>\n",
       "      <td id=\"T_cc1b7_row2_col2\" class=\"data row2 col2\" >www.sciencedaily.com</td>\n",
       "      <td id=\"T_cc1b7_row2_col3\" class=\"data row2 col3\" >2017-02-17 00:00:00</td>\n",
       "      <td id=\"T_cc1b7_row2_col4\" class=\"data row2 col4\" >As the world continually emits carbon dioxide into the atmosphere, the oceans are taking a hit, absorbing some of it and growing more acidic. Among other effects, scientists have found that coral reefs and oyster hatcheries are deteriorating as a result. However, scientists studying a type of sea snail report a bit of bright news: The animal can adapt by rejiggering its shell-making process and other functions.</td>\n",
       "      <td id=\"T_cc1b7_row2_col5\" class=\"data row2 col5\" ><a target=\"_blank\" href=\"https://www.sciencedaily.com/releases/2017/02/170215084103.htm\">link</a></td>\n",
       "      <td id=\"T_cc1b7_row2_col6\" class=\"data row2 col6\" >Some marine creatures may be more resilient to harsher ocean conditions than expected As the world continually emits carbon dioxide into the atmosphere, the oceans are taking a hit, absorbing some of it and growing more acidic. Among other effects, scientists have found that coral reefs and oyster hatcheries are deteriorating as a result. However, scientists studying a type of sea snail report a bit of bright news in the ACS journal Environmental Science & Technology: The animal can adapt by rejiggering its shell-making process and other functions. A lower pH in ocean waters means fewer carbonate ions are available to calcifying organisms, such as coral reefs and oysters, which need the ions to produce shells and skeletons.</td>\n",
       "    </tr>\n",
       "  </tbody>\n",
       "</table>\n"
      ],
      "text/plain": [
       "<pandas.io.formats.style.Styler at 0x3d5effbe0>"
      ]
     },
     "execution_count": 14,
     "metadata": {},
     "output_type": "execute_result"
    }
   ],
   "source": [
    "vector_ids, scores = h.get_ids_scores(response)\n",
    "result = df.loc[vector_ids]\n",
    "result['score'] = scores\n",
    "result[['title', 'score', 'domain', 'date', 'description', 'url', 'text_to_encode']].style.format(\n",
    "    {\n",
    "        'url': h.make_clickable, \n",
    "        'score': lambda x: round(x, 2)\n",
    "    }\n",
    ")"
   ]
  },
  {
   "cell_type": "markdown",
   "id": "4c84b072",
   "metadata": {},
   "source": [
    "#### Are the results any good?\n",
    "\n",
    "We invite the reader to explore various queries by running the code in the last two cells. Note that this is **not a keyword search** but rather a **search for semantically similar results**. Note the _score_ column indicating the similarity score with the query. Better scores are typically associated with more semantic similarity."
   ]
  },
  {
   "cell_type": "markdown",
   "id": "b3108f73",
   "metadata": {},
   "source": [
    "### Pinecone Example Usage With [Metadata](https://www.pinecone.io/docs/metadata-filtering/)\n",
    "\n",
    "Extensive predicate logic can be applied to metadata filtering, just like the [WHERE clause](https://www.pinecone.io/learn/vector-search-filtering/) in SQL! Pinecone's [metadata feature](https://www.pinecone.io/docs/metadata-filtering/) provides easy-to-implement filtering.\n",
    "\n",
    "Here are the top 20 sources, with the rest grouped into the _other_ category. We will filter results so that they come from any of the top 5 sources of articles written in 2018 or 2019. We are able to do this because you've provided this metadata when upserting the vectors to your Pinecone index."
   ]
  },
  {
   "cell_type": "code",
   "execution_count": 19,
   "id": "8ec9b606",
   "metadata": {},
   "outputs": [
    {
     "name": "stdout",
     "output_type": "stream",
     "text": [
      "uk.reuters.com, www.dailymail.co.uk, www.topix.com, www.reuters.com, www.which.co.uk, www.express.co.uk, indianexpress.com, www.cbssports.com, www.mirror.co.uk, nypost.com, shepherdexpress.com, www.channelnewsasia.com, www.cnn.com, www.amarujala.com, nationalpost.com, www.nigeriatoday.ng, www.metronews.ca, www.taiwannews.com.tw, www.inquisitr.com, www.seattletimes.com\n"
     ]
    }
   ],
   "source": [
    "sources = h.get_top_sources(df)\n",
    "print(*sources, sep=', ')"
   ]
  },
  {
   "cell_type": "code",
   "execution_count": 20,
   "id": "4c61a4bd",
   "metadata": {
    "scrolled": false
   },
   "outputs": [
    {
     "data": {
      "text/html": [
       "<style type=\"text/css\">\n",
       "</style>\n",
       "<table id=\"T_982ed\">\n",
       "  <thead>\n",
       "    <tr>\n",
       "      <th class=\"blank level0\" >&nbsp;</th>\n",
       "      <th id=\"T_982ed_level0_col0\" class=\"col_heading level0 col0\" >title</th>\n",
       "      <th id=\"T_982ed_level0_col1\" class=\"col_heading level0 col1\" >score</th>\n",
       "      <th id=\"T_982ed_level0_col2\" class=\"col_heading level0 col2\" >domain</th>\n",
       "      <th id=\"T_982ed_level0_col3\" class=\"col_heading level0 col3\" >date</th>\n",
       "      <th id=\"T_982ed_level0_col4\" class=\"col_heading level0 col4\" >description</th>\n",
       "      <th id=\"T_982ed_level0_col5\" class=\"col_heading level0 col5\" >url</th>\n",
       "      <th id=\"T_982ed_level0_col6\" class=\"col_heading level0 col6\" >text_to_encode</th>\n",
       "    </tr>\n",
       "    <tr>\n",
       "      <th class=\"index_name level0\" >vector_id</th>\n",
       "      <th class=\"blank col0\" >&nbsp;</th>\n",
       "      <th class=\"blank col1\" >&nbsp;</th>\n",
       "      <th class=\"blank col2\" >&nbsp;</th>\n",
       "      <th class=\"blank col3\" >&nbsp;</th>\n",
       "      <th class=\"blank col4\" >&nbsp;</th>\n",
       "      <th class=\"blank col5\" >&nbsp;</th>\n",
       "      <th class=\"blank col6\" >&nbsp;</th>\n",
       "    </tr>\n",
       "  </thead>\n",
       "  <tbody>\n",
       "    <tr>\n",
       "      <th id=\"T_982ed_level0_row0\" class=\"row_heading level0 row0\" >257400</th>\n",
       "      <td id=\"T_982ed_row0_col0\" class=\"data row0 col0\" >Ikea recalls Eldslaga gas hob over fears it could be pumping too much carbon monoxide into homes</td>\n",
       "      <td id=\"T_982ed_row0_col1\" class=\"data row0 col1\" >0.41</td>\n",
       "      <td id=\"T_982ed_row0_col2\" class=\"data row0 col2\" >www.dailymail.co.uk</td>\n",
       "      <td id=\"T_982ed_row0_col3\" class=\"data row0 col3\" >2018-04-24 15:56:28</td>\n",
       "      <td id=\"T_982ed_row0_col4\" class=\"data row0 col4\" >Swedish furniture retailer has announced a fault with the Eldslaga hob which could be over-pumping carbon monoxide into homes. The furniture giant has also urged people to stop using hob.</td>\n",
       "      <td id=\"T_982ed_row0_col5\" class=\"data row0 col5\" ><a target=\"_blank\" href=\"http://www.dailymail.co.uk/news/article-5651889/Ikea-recalls-Eldslaga-gas-hob-fears-pumping-carbon-monoxide-homes.html?ITO=1490&ns_mchannel=rss&ns_campaign=1490\">link</a></td>\n",
       "      <td id=\"T_982ed_row0_col6\" class=\"data row0 col6\" >Ikea recalls Eldslaga gas hob over fears it could be pumping too much carbon monoxide into homes Ikea is recalling a gas hob sold in the UK because it could be pumping too much carbon monoxide (CO) into homes. The Swedish furniture retailer has announced there is a fault with the Eldslaga hob which allows it to emit more CO than EU-allowed limits. Ikea warned customers to stop using the 'rapid burner' found in the upper right corner of the hob on any version bought before January 1 this year. It described the recall for repair as a 'precautionary measure' and said there was no elevated risk of fire or explosion, while stating there have been no incidents relating to the fault so far. Product recall:</td>\n",
       "    </tr>\n",
       "    <tr>\n",
       "      <th id=\"T_982ed_level0_row1\" class=\"row_heading level0 row1\" >257610</th>\n",
       "      <td id=\"T_982ed_row1_col0\" class=\"data row1 col0\" >Rising sea levels could cost the world $14 TRILLION a year by 2100</td>\n",
       "      <td id=\"T_982ed_row1_col1\" class=\"data row1 col1\" >0.41</td>\n",
       "      <td id=\"T_982ed_row1_col2\" class=\"data row1 col2\" >www.dailymail.co.uk</td>\n",
       "      <td id=\"T_982ed_row1_col3\" class=\"data row1 col3\" >2018-07-04 19:55:53</td>\n",
       "      <td id=\"T_982ed_row1_col4\" class=\"data row1 col4\" >Failure to meet the United Nations' 2ºC warming limits will lead to sea level rise and 'dire consequences,' new research led by the UK National Oceanographic Centre said.</td>\n",
       "      <td id=\"T_982ed_row1_col5\" class=\"data row1 col5\" ><a target=\"_blank\" href=\"http://www.dailymail.co.uk/sciencetech/article-5918757/Rising-sea-levels-cost-world-14-TRILLION-year-2100.html?ITO=1490&ns_mchannel=rss&ns_campaign=1490\">link</a></td>\n",
       "      <td id=\"T_982ed_row1_col6\" class=\"data row1 col6\" >Rising sea levels could cost the world $14 TRILLION a year by 2100 Failure to meet the United Nations' 2ºC warming limits will lead to sea level rise and 'dire global economic consequences', chilling new research has warned. It claims flooding from rising sea levels could cost $14 trillion worldwide annually by 2100, if the target of holding global temperatures below 2ºC above pre-industrial levels is missed. Scientists calculated the financial impact of sea damage worldwide if global temperatures are not held below 2C above pre-industrial levels. Scroll down for video\n",
       "Winter storms at Trebarwith Strand, North Cornwall: A new study warns flooding from rising sea levels could cost $14 trillion worldwide annually by 2100\n",
       "Upper middle-income countries such as China would suffer the greatest flood burden, said the researchers.</td>\n",
       "    </tr>\n",
       "    <tr>\n",
       "      <th id=\"T_982ed_level0_row2\" class=\"row_heading level0 row2\" >254858</th>\n",
       "      <td id=\"T_982ed_row2_col0\" class=\"data row2 col0\" >Low-lying Marshall Islands brace for tidal floods</td>\n",
       "      <td id=\"T_982ed_row2_col1\" class=\"data row2 col1\" >0.4</td>\n",
       "      <td id=\"T_982ed_row2_col2\" class=\"data row2 col2\" >www.dailymail.co.uk</td>\n",
       "      <td id=\"T_982ed_row2_col3\" class=\"data row2 col3\" >2018-02-03 04:53:26</td>\n",
       "      <td id=\"T_982ed_row2_col4\" class=\"data row2 col4\" >Emergency services were put on standby Saturday in Majuro, as rising king tides threatened to flood the capital of the low-lying Marshall Islands. The...</td>\n",
       "      <td id=\"T_982ed_row2_col5\" class=\"data row2 col5\" ><a target=\"_blank\" href=\"http://www.dailymail.co.uk/wires/afp/article-5347217/Low-lying-Marshall-Islands-brace-tidal-floods.html?ITO=1490&ns_mchannel=rss&ns_campaign=1490\">link</a></td>\n",
       "      <td id=\"T_982ed_row2_col6\" class=\"data row2 col6\" >Low-lying Marshall Islands brace for tidal floods A high tide energized by storm surges in 2014 washed across an island in Majuro Atoll, A high tide energised by storm surges washed across an island in Majuro Atoll, Marshall Islands in 2014, causing widespread flooding and damaging a number of homes\n",
       "Emergency services were put on standby Saturday in Majuro, as rising king tides threatened to flood the capital of the low-lying Marshall Islands. The national weather service warned \"major inundation\" was possible from Saturday evening through to Tuesday at peak tide periods in the Pacific island nation, highlighting its vulnerability to rising sea levels. \"We're on stand-by through Tuesday,\" Public Works Minister Tony Muller said Saturday as the 30,000 population of Majuro Atoll braced for the expected floods. Heavy equipment, including bulldozers, was being positioned at critical locations around Majuro so emergency crews can respond quickly in the event of flooding, he said. Majuro is barely a metre above sea level and the single road along the 30-mile (50-kilometre) length of the coral atoll is often blocked during serious flooding by coral, rocks, sand and garbage tossed up by waves.</td>\n",
       "    </tr>\n",
       "    <tr>\n",
       "      <th id=\"T_982ed_level0_row3\" class=\"row_heading level0 row3\" >264435</th>\n",
       "      <td id=\"T_982ed_row3_col0\" class=\"data row3 col0\" >Record concentration of microplastics is found in Arctic sea ice in five separate locations</td>\n",
       "      <td id=\"T_982ed_row3_col1\" class=\"data row3 col1\" >0.39</td>\n",
       "      <td id=\"T_982ed_row3_col2\" class=\"data row3 col2\" >www.dailymail.co.uk</td>\n",
       "      <td id=\"T_982ed_row3_col3\" class=\"data row3 col3\" >2018-04-24 16:15:23</td>\n",
       "      <td id=\"T_982ed_row3_col4\" class=\"data row3 col4\" >Up to 12,000 of the plastic particles were found per litre of sea ice in core samples taken from five regions in the Arctic Ocean by researchers Alfred Wegener Institute in in Bremerhaven, Germany.</td>\n",
       "      <td id=\"T_982ed_row3_col5\" class=\"data row3 col5\" ><a target=\"_blank\" href=\"http://www.dailymail.co.uk/sciencetech/article-5651783/Record-concentration-microplastics-Arctic-sea-ice-five-separate-locations.html?ITO=1490&ns_mchannel=rss&ns_campaign=1490\">link</a></td>\n",
       "      <td id=\"T_982ed_row3_col6\" class=\"data row3 col6\" >Record concentration of microplastics is found in Arctic sea ice in five separate locations Microplastics have been found in record levels in Arctic sea ice, raising concerns about their impact on marine life and humans, scientists said. Up to 12,000 of the plastic particles were found per litre of sea ice in core samples taken from five regions on trips to the Arctic Ocean in 2014 and 2015 - three times higher than previous levels. The samples included tiny fragments of packaging, paints, nylon, polyester and cellulose acetate, which is commonly used in making cigarette filters. Scientists warn that the implications of this level of plastic pollution for marine life and human health is still unknown. Scroll down for video\n",
       "Tiny particles known as 'microplastics' have been found in record levels in Arctic sea ice (pictured), raising concerns about their impact on marine life and humans, scientists said\n",
       "Up to 12,000 of the plastic particles were found per litre of sea ice in core samples (pictured) taken from five regions on trips to the Arctic Ocean in 2014 and 2015 - three times higher than previous levels\n",
       "Identifying different types of microplastic and the movement of the ice could help us work out the source of these pollutants, say researchers from the Alfred Wegener Institute, Helmholtz Centre for Polar and Marine Research (AWI).</td>\n",
       "    </tr>\n",
       "    <tr>\n",
       "      <th id=\"T_982ed_level0_row4\" class=\"row_heading level0 row4\" >264513</th>\n",
       "      <td id=\"T_982ed_row4_col0\" class=\"data row4 col0\" >UN chief calls for action against the ‘plastic pandemic’</td>\n",
       "      <td id=\"T_982ed_row4_col1\" class=\"data row4 col1\" >0.38</td>\n",
       "      <td id=\"T_982ed_row4_col2\" class=\"data row4 col2\" >www.dailymail.co.uk</td>\n",
       "      <td id=\"T_982ed_row4_col3\" class=\"data row4 col3\" >2018-03-19 23:42:53</td>\n",
       "      <td id=\"T_982ed_row4_col4\" class=\"data row4 col4\" >The UN, Michael Gove and several MPs have called on action to be taken against the 'plastic pandemic' which was revealed in a Daily Mail investigation yesterday.</td>\n",
       "      <td id=\"T_982ed_row4_col5\" class=\"data row4 col5\" ><a target=\"_blank\" href=\"http://www.dailymail.co.uk/news/article-5520597/UN-chief-calls-action-against-plastic-pandemic.html?ITO=1490&ns_mchannel=rss&ns_campaign=1490\">link</a></td>\n",
       "      <td id=\"T_982ed_row4_col6\" class=\"data row4 col6\" >UN chief calls for action against the ‘plastic pandemic’ The United Nations, Environment Secretary, MPs and health campaigners last night called for action against the ‘plastic pandemic’ following a Daily Mail investigation. Tiny particles of plastic are present in the air, contaminating the food we eat and the air we breathe, this newspaper revealed yesterday. Fish fillet samples from eight stores were tested and all revealed worrying levels of plastic exposure. The head of UN Environment Erik Solheim, pictured, has called on people to pay attention to science and accept the health risks of plastic\n",
       "Scientists behind the research said this was evidence that microplastics are all around us. It is the latest damning indictment of modern society’s reliance on plastic when its damaging effects are still unknown.</td>\n",
       "    </tr>\n",
       "  </tbody>\n",
       "</table>\n"
      ],
      "text/plain": [
       "<pandas.io.formats.style.Styler at 0x3d5efdd50>"
      ]
     },
     "execution_count": 20,
     "metadata": {},
     "output_type": "execute_result"
    }
   ],
   "source": [
    "response = index.query(\n",
    "    [vector_embedding], \n",
    "    top_k=5, \n",
    "    filter={\n",
    "        \"$and\": [\n",
    "            {'year': {'$in': [2018, 2019]}},\n",
    "            {'source': {'$in': sources[:5]}}\n",
    "        ]\n",
    "    }\n",
    ")\n",
    "vector_ids, scores = h.get_ids_scores(response)\n",
    "result = df.loc[vector_ids]\n",
    "result['score'] = scores\n",
    "result[['title', 'score', 'domain', 'date', 'description', 'url', 'text_to_encode']].style.format(\n",
    "    {\n",
    "        'url': h.make_clickable, \n",
    "        'score': lambda x: round(x, 2)\n",
    "    }\n",
    ")"
   ]
  },
  {
   "cell_type": "markdown",
   "id": "fa29d82b",
   "metadata": {},
   "source": [
    "#### Are the results any good?\n",
    "\n",
    "We leave this to the reader to assess, as it is subjective. One thing to notice is the the similarity scores are a bit lower when retreiving from the top news sources. This is not surprising, since one might expect relevant results to come from more scientific sources such as _phys.org_ and _sciencedaily.com_."
   ]
  },
  {
   "cell_type": "markdown",
   "id": "d3a42e36",
   "metadata": {},
   "source": [
    "## Conclusion\n",
    "\n",
    "In this example, we demonstrated how trivial Pinecone makes it possible to do semantic search using a pre-trained transformer-encoder model with Pinecone to achieve realtime similarity retrieval! We demonstrated the use of metadata filtering with querying Pinecone's vector database."
   ]
  },
  {
   "cell_type": "markdown",
   "id": "d5fed76d",
   "metadata": {},
   "source": [
    "### Like what you see? Explore our [community](https://www.pinecone.io/community/)\n",
    "Learn more about semantic search and the rich, performant, and production-level feature set of Pinecone's Vector Database by visiting https://pinecone.io, connecting with us [here](https://www.pinecone.io/contact/) and [following us](https://www.linkedin.com/company/pinecone-io) on LinkedIn. If interested in some of the algorithms that allow for effecient estimation of similar vectors, visit our Algorithms and Libraries section of our [Learning Center](https://www.pinecone.io/learn/)."
   ]
  }
 ],
 "metadata": {
  "kernelspec": {
   "display_name": "Python 3 (ipykernel)",
   "language": "python",
   "name": "python3"
  },
  "language_info": {
   "codemirror_mode": {
    "name": "ipython",
    "version": 3
   },
   "file_extension": ".py",
   "mimetype": "text/x-python",
   "name": "python",
   "nbconvert_exporter": "python",
   "pygments_lexer": "ipython3",
   "version": "3.10.1"
  }
 },
 "nbformat": 4,
 "nbformat_minor": 5
}
